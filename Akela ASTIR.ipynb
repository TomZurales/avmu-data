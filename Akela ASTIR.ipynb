{
 "cells": [
  {
   "cell_type": "code",
   "execution_count": 14,
   "metadata": {},
   "outputs": [],
   "source": [
    "import numpy as np\n",
    "from bokeh.io import push_notebook, output_notebook\n",
    "from bokeh.plotting import figure, show\n",
    "from IPython.display import display\n",
    "import ipywidgets as widgets\n",
    "import os\n",
    "import pickle\n",
    "import imageio\n"
   ]
  },
  {
   "cell_type": "code",
   "execution_count": 15,
   "metadata": {},
   "outputs": [
    {
     "data": {
      "text/html": [
       "\n",
       "    <div class=\"bk-root\">\n",
       "        <a href=\"https://bokeh.pydata.org\" target=\"_blank\" class=\"bk-logo bk-logo-small bk-logo-notebook\"></a>\n",
       "        <span id=\"1105\">Loading BokehJS ...</span>\n",
       "    </div>"
      ]
     },
     "metadata": {},
     "output_type": "display_data"
    },
    {
     "data": {
      "application/javascript": [
       "\n",
       "(function(root) {\n",
       "  function now() {\n",
       "    return new Date();\n",
       "  }\n",
       "\n",
       "  var force = true;\n",
       "\n",
       "  if (typeof (root._bokeh_onload_callbacks) === \"undefined\" || force === true) {\n",
       "    root._bokeh_onload_callbacks = [];\n",
       "    root._bokeh_is_loading = undefined;\n",
       "  }\n",
       "\n",
       "  var JS_MIME_TYPE = 'application/javascript';\n",
       "  var HTML_MIME_TYPE = 'text/html';\n",
       "  var EXEC_MIME_TYPE = 'application/vnd.bokehjs_exec.v0+json';\n",
       "  var CLASS_NAME = 'output_bokeh rendered_html';\n",
       "\n",
       "  /**\n",
       "   * Render data to the DOM node\n",
       "   */\n",
       "  function render(props, node) {\n",
       "    var script = document.createElement(\"script\");\n",
       "    node.appendChild(script);\n",
       "  }\n",
       "\n",
       "  /**\n",
       "   * Handle when an output is cleared or removed\n",
       "   */\n",
       "  function handleClearOutput(event, handle) {\n",
       "    var cell = handle.cell;\n",
       "\n",
       "    var id = cell.output_area._bokeh_element_id;\n",
       "    var server_id = cell.output_area._bokeh_server_id;\n",
       "    // Clean up Bokeh references\n",
       "    if (id != null && id in Bokeh.index) {\n",
       "      Bokeh.index[id].model.document.clear();\n",
       "      delete Bokeh.index[id];\n",
       "    }\n",
       "\n",
       "    if (server_id !== undefined) {\n",
       "      // Clean up Bokeh references\n",
       "      var cmd = \"from bokeh.io.state import curstate; print(curstate().uuid_to_server['\" + server_id + \"'].get_sessions()[0].document.roots[0]._id)\";\n",
       "      cell.notebook.kernel.execute(cmd, {\n",
       "        iopub: {\n",
       "          output: function(msg) {\n",
       "            var id = msg.content.text.trim();\n",
       "            if (id in Bokeh.index) {\n",
       "              Bokeh.index[id].model.document.clear();\n",
       "              delete Bokeh.index[id];\n",
       "            }\n",
       "          }\n",
       "        }\n",
       "      });\n",
       "      // Destroy server and session\n",
       "      var cmd = \"import bokeh.io.notebook as ion; ion.destroy_server('\" + server_id + \"')\";\n",
       "      cell.notebook.kernel.execute(cmd);\n",
       "    }\n",
       "  }\n",
       "\n",
       "  /**\n",
       "   * Handle when a new output is added\n",
       "   */\n",
       "  function handleAddOutput(event, handle) {\n",
       "    var output_area = handle.output_area;\n",
       "    var output = handle.output;\n",
       "\n",
       "    // limit handleAddOutput to display_data with EXEC_MIME_TYPE content only\n",
       "    if ((output.output_type != \"display_data\") || (!output.data.hasOwnProperty(EXEC_MIME_TYPE))) {\n",
       "      return\n",
       "    }\n",
       "\n",
       "    var toinsert = output_area.element.find(\".\" + CLASS_NAME.split(' ')[0]);\n",
       "\n",
       "    if (output.metadata[EXEC_MIME_TYPE][\"id\"] !== undefined) {\n",
       "      toinsert[toinsert.length - 1].firstChild.textContent = output.data[JS_MIME_TYPE];\n",
       "      // store reference to embed id on output_area\n",
       "      output_area._bokeh_element_id = output.metadata[EXEC_MIME_TYPE][\"id\"];\n",
       "    }\n",
       "    if (output.metadata[EXEC_MIME_TYPE][\"server_id\"] !== undefined) {\n",
       "      var bk_div = document.createElement(\"div\");\n",
       "      bk_div.innerHTML = output.data[HTML_MIME_TYPE];\n",
       "      var script_attrs = bk_div.children[0].attributes;\n",
       "      for (var i = 0; i < script_attrs.length; i++) {\n",
       "        toinsert[toinsert.length - 1].firstChild.setAttribute(script_attrs[i].name, script_attrs[i].value);\n",
       "      }\n",
       "      // store reference to server id on output_area\n",
       "      output_area._bokeh_server_id = output.metadata[EXEC_MIME_TYPE][\"server_id\"];\n",
       "    }\n",
       "  }\n",
       "\n",
       "  function register_renderer(events, OutputArea) {\n",
       "\n",
       "    function append_mime(data, metadata, element) {\n",
       "      // create a DOM node to render to\n",
       "      var toinsert = this.create_output_subarea(\n",
       "        metadata,\n",
       "        CLASS_NAME,\n",
       "        EXEC_MIME_TYPE\n",
       "      );\n",
       "      this.keyboard_manager.register_events(toinsert);\n",
       "      // Render to node\n",
       "      var props = {data: data, metadata: metadata[EXEC_MIME_TYPE]};\n",
       "      render(props, toinsert[toinsert.length - 1]);\n",
       "      element.append(toinsert);\n",
       "      return toinsert\n",
       "    }\n",
       "\n",
       "    /* Handle when an output is cleared or removed */\n",
       "    events.on('clear_output.CodeCell', handleClearOutput);\n",
       "    events.on('delete.Cell', handleClearOutput);\n",
       "\n",
       "    /* Handle when a new output is added */\n",
       "    events.on('output_added.OutputArea', handleAddOutput);\n",
       "\n",
       "    /**\n",
       "     * Register the mime type and append_mime function with output_area\n",
       "     */\n",
       "    OutputArea.prototype.register_mime_type(EXEC_MIME_TYPE, append_mime, {\n",
       "      /* Is output safe? */\n",
       "      safe: true,\n",
       "      /* Index of renderer in `output_area.display_order` */\n",
       "      index: 0\n",
       "    });\n",
       "  }\n",
       "\n",
       "  // register the mime type if in Jupyter Notebook environment and previously unregistered\n",
       "  if (root.Jupyter !== undefined) {\n",
       "    var events = require('base/js/events');\n",
       "    var OutputArea = require('notebook/js/outputarea').OutputArea;\n",
       "\n",
       "    if (OutputArea.prototype.mime_types().indexOf(EXEC_MIME_TYPE) == -1) {\n",
       "      register_renderer(events, OutputArea);\n",
       "    }\n",
       "  }\n",
       "\n",
       "  \n",
       "  if (typeof (root._bokeh_timeout) === \"undefined\" || force === true) {\n",
       "    root._bokeh_timeout = Date.now() + 5000;\n",
       "    root._bokeh_failed_load = false;\n",
       "  }\n",
       "\n",
       "  var NB_LOAD_WARNING = {'data': {'text/html':\n",
       "     \"<div style='background-color: #fdd'>\\n\"+\n",
       "     \"<p>\\n\"+\n",
       "     \"BokehJS does not appear to have successfully loaded. If loading BokehJS from CDN, this \\n\"+\n",
       "     \"may be due to a slow or bad network connection. Possible fixes:\\n\"+\n",
       "     \"</p>\\n\"+\n",
       "     \"<ul>\\n\"+\n",
       "     \"<li>re-rerun `output_notebook()` to attempt to load from CDN again, or</li>\\n\"+\n",
       "     \"<li>use INLINE resources instead, as so:</li>\\n\"+\n",
       "     \"</ul>\\n\"+\n",
       "     \"<code>\\n\"+\n",
       "     \"from bokeh.resources import INLINE\\n\"+\n",
       "     \"output_notebook(resources=INLINE)\\n\"+\n",
       "     \"</code>\\n\"+\n",
       "     \"</div>\"}};\n",
       "\n",
       "  function display_loaded() {\n",
       "    var el = document.getElementById(\"1105\");\n",
       "    if (el != null) {\n",
       "      el.textContent = \"BokehJS is loading...\";\n",
       "    }\n",
       "    if (root.Bokeh !== undefined) {\n",
       "      if (el != null) {\n",
       "        el.textContent = \"BokehJS \" + root.Bokeh.version + \" successfully loaded.\";\n",
       "      }\n",
       "    } else if (Date.now() < root._bokeh_timeout) {\n",
       "      setTimeout(display_loaded, 100)\n",
       "    }\n",
       "  }\n",
       "\n",
       "\n",
       "  function run_callbacks() {\n",
       "    try {\n",
       "      root._bokeh_onload_callbacks.forEach(function(callback) { callback() });\n",
       "    }\n",
       "    finally {\n",
       "      delete root._bokeh_onload_callbacks\n",
       "    }\n",
       "    console.info(\"Bokeh: all callbacks have finished\");\n",
       "  }\n",
       "\n",
       "  function load_libs(js_urls, callback) {\n",
       "    root._bokeh_onload_callbacks.push(callback);\n",
       "    if (root._bokeh_is_loading > 0) {\n",
       "      console.log(\"Bokeh: BokehJS is being loaded, scheduling callback at\", now());\n",
       "      return null;\n",
       "    }\n",
       "    if (js_urls == null || js_urls.length === 0) {\n",
       "      run_callbacks();\n",
       "      return null;\n",
       "    }\n",
       "    console.log(\"Bokeh: BokehJS not loaded, scheduling load and callback at\", now());\n",
       "    root._bokeh_is_loading = js_urls.length;\n",
       "    for (var i = 0; i < js_urls.length; i++) {\n",
       "      var url = js_urls[i];\n",
       "      var s = document.createElement('script');\n",
       "      s.src = url;\n",
       "      s.async = false;\n",
       "      s.onreadystatechange = s.onload = function() {\n",
       "        root._bokeh_is_loading--;\n",
       "        if (root._bokeh_is_loading === 0) {\n",
       "          console.log(\"Bokeh: all BokehJS libraries loaded\");\n",
       "          run_callbacks()\n",
       "        }\n",
       "      };\n",
       "      s.onerror = function() {\n",
       "        console.warn(\"failed to load library \" + url);\n",
       "      };\n",
       "      console.log(\"Bokeh: injecting script tag for BokehJS library: \", url);\n",
       "      document.getElementsByTagName(\"head\")[0].appendChild(s);\n",
       "    }\n",
       "  };var element = document.getElementById(\"1105\");\n",
       "  if (element == null) {\n",
       "    console.log(\"Bokeh: ERROR: autoload.js configured with elementid '1105' but no matching script tag was found. \")\n",
       "    return false;\n",
       "  }\n",
       "\n",
       "  var js_urls = [\"https://cdn.pydata.org/bokeh/release/bokeh-1.0.4.min.js\", \"https://cdn.pydata.org/bokeh/release/bokeh-widgets-1.0.4.min.js\", \"https://cdn.pydata.org/bokeh/release/bokeh-tables-1.0.4.min.js\", \"https://cdn.pydata.org/bokeh/release/bokeh-gl-1.0.4.min.js\"];\n",
       "\n",
       "  var inline_js = [\n",
       "    function(Bokeh) {\n",
       "      Bokeh.set_log_level(\"info\");\n",
       "    },\n",
       "    \n",
       "    function(Bokeh) {\n",
       "      \n",
       "    },\n",
       "    function(Bokeh) {\n",
       "      console.log(\"Bokeh: injecting CSS: https://cdn.pydata.org/bokeh/release/bokeh-1.0.4.min.css\");\n",
       "      Bokeh.embed.inject_css(\"https://cdn.pydata.org/bokeh/release/bokeh-1.0.4.min.css\");\n",
       "      console.log(\"Bokeh: injecting CSS: https://cdn.pydata.org/bokeh/release/bokeh-widgets-1.0.4.min.css\");\n",
       "      Bokeh.embed.inject_css(\"https://cdn.pydata.org/bokeh/release/bokeh-widgets-1.0.4.min.css\");\n",
       "      console.log(\"Bokeh: injecting CSS: https://cdn.pydata.org/bokeh/release/bokeh-tables-1.0.4.min.css\");\n",
       "      Bokeh.embed.inject_css(\"https://cdn.pydata.org/bokeh/release/bokeh-tables-1.0.4.min.css\");\n",
       "    }\n",
       "  ];\n",
       "\n",
       "  function run_inline_js() {\n",
       "    \n",
       "    if ((root.Bokeh !== undefined) || (force === true)) {\n",
       "      for (var i = 0; i < inline_js.length; i++) {\n",
       "        inline_js[i].call(root, root.Bokeh);\n",
       "      }if (force === true) {\n",
       "        display_loaded();\n",
       "      }} else if (Date.now() < root._bokeh_timeout) {\n",
       "      setTimeout(run_inline_js, 100);\n",
       "    } else if (!root._bokeh_failed_load) {\n",
       "      console.log(\"Bokeh: BokehJS failed to load within specified timeout.\");\n",
       "      root._bokeh_failed_load = true;\n",
       "    } else if (force !== true) {\n",
       "      var cell = $(document.getElementById(\"1105\")).parents('.cell').data().cell;\n",
       "      cell.output_area.append_execute_result(NB_LOAD_WARNING)\n",
       "    }\n",
       "\n",
       "  }\n",
       "\n",
       "  if (root._bokeh_is_loading === 0) {\n",
       "    console.log(\"Bokeh: BokehJS loaded, going straight to plotting\");\n",
       "    run_inline_js();\n",
       "  } else {\n",
       "    load_libs(js_urls, function() {\n",
       "      console.log(\"Bokeh: BokehJS plotting callback run at\", now());\n",
       "      run_inline_js();\n",
       "    });\n",
       "  }\n",
       "}(window));"
      ],
      "application/vnd.bokehjs_load.v0+json": "\n(function(root) {\n  function now() {\n    return new Date();\n  }\n\n  var force = true;\n\n  if (typeof (root._bokeh_onload_callbacks) === \"undefined\" || force === true) {\n    root._bokeh_onload_callbacks = [];\n    root._bokeh_is_loading = undefined;\n  }\n\n  \n\n  \n  if (typeof (root._bokeh_timeout) === \"undefined\" || force === true) {\n    root._bokeh_timeout = Date.now() + 5000;\n    root._bokeh_failed_load = false;\n  }\n\n  var NB_LOAD_WARNING = {'data': {'text/html':\n     \"<div style='background-color: #fdd'>\\n\"+\n     \"<p>\\n\"+\n     \"BokehJS does not appear to have successfully loaded. If loading BokehJS from CDN, this \\n\"+\n     \"may be due to a slow or bad network connection. Possible fixes:\\n\"+\n     \"</p>\\n\"+\n     \"<ul>\\n\"+\n     \"<li>re-rerun `output_notebook()` to attempt to load from CDN again, or</li>\\n\"+\n     \"<li>use INLINE resources instead, as so:</li>\\n\"+\n     \"</ul>\\n\"+\n     \"<code>\\n\"+\n     \"from bokeh.resources import INLINE\\n\"+\n     \"output_notebook(resources=INLINE)\\n\"+\n     \"</code>\\n\"+\n     \"</div>\"}};\n\n  function display_loaded() {\n    var el = document.getElementById(\"1105\");\n    if (el != null) {\n      el.textContent = \"BokehJS is loading...\";\n    }\n    if (root.Bokeh !== undefined) {\n      if (el != null) {\n        el.textContent = \"BokehJS \" + root.Bokeh.version + \" successfully loaded.\";\n      }\n    } else if (Date.now() < root._bokeh_timeout) {\n      setTimeout(display_loaded, 100)\n    }\n  }\n\n\n  function run_callbacks() {\n    try {\n      root._bokeh_onload_callbacks.forEach(function(callback) { callback() });\n    }\n    finally {\n      delete root._bokeh_onload_callbacks\n    }\n    console.info(\"Bokeh: all callbacks have finished\");\n  }\n\n  function load_libs(js_urls, callback) {\n    root._bokeh_onload_callbacks.push(callback);\n    if (root._bokeh_is_loading > 0) {\n      console.log(\"Bokeh: BokehJS is being loaded, scheduling callback at\", now());\n      return null;\n    }\n    if (js_urls == null || js_urls.length === 0) {\n      run_callbacks();\n      return null;\n    }\n    console.log(\"Bokeh: BokehJS not loaded, scheduling load and callback at\", now());\n    root._bokeh_is_loading = js_urls.length;\n    for (var i = 0; i < js_urls.length; i++) {\n      var url = js_urls[i];\n      var s = document.createElement('script');\n      s.src = url;\n      s.async = false;\n      s.onreadystatechange = s.onload = function() {\n        root._bokeh_is_loading--;\n        if (root._bokeh_is_loading === 0) {\n          console.log(\"Bokeh: all BokehJS libraries loaded\");\n          run_callbacks()\n        }\n      };\n      s.onerror = function() {\n        console.warn(\"failed to load library \" + url);\n      };\n      console.log(\"Bokeh: injecting script tag for BokehJS library: \", url);\n      document.getElementsByTagName(\"head\")[0].appendChild(s);\n    }\n  };var element = document.getElementById(\"1105\");\n  if (element == null) {\n    console.log(\"Bokeh: ERROR: autoload.js configured with elementid '1105' but no matching script tag was found. \")\n    return false;\n  }\n\n  var js_urls = [\"https://cdn.pydata.org/bokeh/release/bokeh-1.0.4.min.js\", \"https://cdn.pydata.org/bokeh/release/bokeh-widgets-1.0.4.min.js\", \"https://cdn.pydata.org/bokeh/release/bokeh-tables-1.0.4.min.js\", \"https://cdn.pydata.org/bokeh/release/bokeh-gl-1.0.4.min.js\"];\n\n  var inline_js = [\n    function(Bokeh) {\n      Bokeh.set_log_level(\"info\");\n    },\n    \n    function(Bokeh) {\n      \n    },\n    function(Bokeh) {\n      console.log(\"Bokeh: injecting CSS: https://cdn.pydata.org/bokeh/release/bokeh-1.0.4.min.css\");\n      Bokeh.embed.inject_css(\"https://cdn.pydata.org/bokeh/release/bokeh-1.0.4.min.css\");\n      console.log(\"Bokeh: injecting CSS: https://cdn.pydata.org/bokeh/release/bokeh-widgets-1.0.4.min.css\");\n      Bokeh.embed.inject_css(\"https://cdn.pydata.org/bokeh/release/bokeh-widgets-1.0.4.min.css\");\n      console.log(\"Bokeh: injecting CSS: https://cdn.pydata.org/bokeh/release/bokeh-tables-1.0.4.min.css\");\n      Bokeh.embed.inject_css(\"https://cdn.pydata.org/bokeh/release/bokeh-tables-1.0.4.min.css\");\n    }\n  ];\n\n  function run_inline_js() {\n    \n    if ((root.Bokeh !== undefined) || (force === true)) {\n      for (var i = 0; i < inline_js.length; i++) {\n        inline_js[i].call(root, root.Bokeh);\n      }if (force === true) {\n        display_loaded();\n      }} else if (Date.now() < root._bokeh_timeout) {\n      setTimeout(run_inline_js, 100);\n    } else if (!root._bokeh_failed_load) {\n      console.log(\"Bokeh: BokehJS failed to load within specified timeout.\");\n      root._bokeh_failed_load = true;\n    } else if (force !== true) {\n      var cell = $(document.getElementById(\"1105\")).parents('.cell').data().cell;\n      cell.output_area.append_execute_result(NB_LOAD_WARNING)\n    }\n\n  }\n\n  if (root._bokeh_is_loading === 0) {\n    console.log(\"Bokeh: BokehJS loaded, going straight to plotting\");\n    run_inline_js();\n  } else {\n    load_libs(js_urls, function() {\n      console.log(\"Bokeh: BokehJS plotting callback run at\", now());\n      run_inline_js();\n    });\n  }\n}(window));"
     },
     "metadata": {},
     "output_type": "display_data"
    }
   ],
   "source": [
    "output_notebook()"
   ]
  },
  {
   "cell_type": "code",
   "execution_count": 16,
   "metadata": {},
   "outputs": [],
   "source": [
    "CABLE_DELAYS = 0.65 * 2\n",
    "DATA_DIRS = [dI for dI in os.listdir() if (os.path.isdir(dI) and not dI[0] == '.')]\n",
    "DATA_DIRS.sort(reverse=True)\n",
    "FOLDER_NAME = DATA_DIRS[0]"
   ]
  },
  {
   "cell_type": "code",
   "execution_count": 17,
   "metadata": {},
   "outputs": [],
   "source": [
    "def pick_capture(capture):\n",
    "    FOLDER_NAME = capture"
   ]
  },
  {
   "cell_type": "code",
   "execution_count": 18,
   "metadata": {},
   "outputs": [
    {
     "data": {
      "application/vnd.jupyter.widget-view+json": {
       "model_id": "cdf21616b3024f9bbff0fdde1f7296dd",
       "version_major": 2,
       "version_minor": 0
      },
      "text/plain": [
       "interactive(children=(Dropdown(description='capture', options=('2019-02-01 12-38-38',), value='2019-02-01 12-3…"
      ]
     },
     "metadata": {},
     "output_type": "display_data"
    }
   ],
   "source": [
    "widgets.interact(pick_capture, capture=DATA_DIRS);"
   ]
  },
  {
   "cell_type": "code",
   "execution_count": 19,
   "metadata": {},
   "outputs": [],
   "source": [
    "with open(os.path.join(FOLDER_NAME, 'data.pickle'), 'rb') as f:\n",
    "    frequencies = pickle.load(f)\n",
    "    sweeps = pickle.load(f)\n",
    "    frame_time = pickle.load(f)\n",
    "    args = pickle.load(f)\n",
    "sweeps = [tmp[0][1]['data'] for tmp in sweeps]"
   ]
  },
  {
   "cell_type": "code",
   "execution_count": 20,
   "metadata": {},
   "outputs": [],
   "source": [
    "step = abs(frequencies[0] - frequencies[-1]) / len(frequencies)\n",
    "front_padding_count = max(int(frequencies[0] / step), 0)"
   ]
  },
  {
   "cell_type": "code",
   "execution_count": 21,
   "metadata": {},
   "outputs": [],
   "source": [
    "time_domain_data = []\n",
    "for i in range(len(sweeps)):\n",
    "    data_pt = sweeps[i]\n",
    "\n",
    "    padded_data = []\n",
    "\n",
    "    while len(padded_data) < front_padding_count:\n",
    "        padded_data.append(0)\n",
    "    padded_data.extend(data_pt)\n",
    "\n",
    "    powers_of_two = [2 ** x for x in range(16)]\n",
    "\n",
    "    for size in powers_of_two:\n",
    "        if (size > len(padded_data)):\n",
    "            final_size = size\n",
    "            break\n",
    "    \n",
    "    while len(padded_data) < final_size:\n",
    "        padded_data.append(0)\n",
    "    \n",
    "    padded_data = np.array(padded_data)\n",
    "\n",
    "    time_domain_data.append(np.fft.ifft(padded_data))\n",
    "    \n",
    "time_domain_data = np.abs(time_domain_data[:len(time_domain_data) // 2])\n",
    "axis = np.array(range(time_domain_data.shape[1]))\n",
    "\n",
    "step = step * 1e6 # Hertz\n",
    "axis = axis * (1 / (len(axis) * step * 2)) # Hertz to seconds\n",
    "axis = axis * 1e9 # Nanoseconds\n",
    "axis = axis - CABLE_DELAYS\n",
    "axis = axis * 0.983571 # Nanoseconds to feet\n",
    "axis = axis * .5"
   ]
  },
  {
   "cell_type": "code",
   "execution_count": 22,
   "metadata": {},
   "outputs": [],
   "source": [
    "p = figure(plot_width=1000, plot_height=600, y_axis_type='log', y_range=(10 ** -2, 15e2))\n",
    "l = p.line(axis, time_domain_data[0], line_width=1)"
   ]
  },
  {
   "cell_type": "code",
   "execution_count": 23,
   "metadata": {},
   "outputs": [],
   "source": [
    "def update(sweep):\n",
    "    l.data_source.data['y'] = time_domain_data[sweep - 1]\n",
    "    push_notebook()"
   ]
  },
  {
   "cell_type": "code",
   "execution_count": 39,
   "metadata": {},
   "outputs": [
    {
     "data": {
      "application/vnd.jupyter.widget-view+json": {
       "model_id": "5a35e7d58c1e4bb0a556dbe03fac88f8",
       "version_major": 2,
       "version_minor": 0
      },
      "text/plain": [
       "interactive(children=(IntSlider(value=1, description='Sweep number', layout=Layout(width='80%'), max=49, min=1…"
      ]
     },
     "metadata": {},
     "output_type": "display_data"
    },
    {
     "data": {
      "text/html": [
       "\n",
       "\n",
       "\n",
       "\n",
       "\n",
       "\n",
       "  <div class=\"bk-root\" id=\"7a04275a-276a-4547-b04a-bd9de02d762b\" data-root-id=\"1106\"></div>\n"
      ]
     },
     "metadata": {},
     "output_type": "display_data"
    },
    {
     "data": {
      "application/javascript": [
       "(function(root) {\n",
       "  function embed_document(root) {\n",
       "    \n",
       "  var docs_json = {\"62523a2b-3a71-4c80-872d-3306d883cbd1\":{\"roots\":{\"references\":[{\"attributes\":{\"below\":[{\"id\":\"1115\",\"type\":\"LinearAxis\"}],\"left\":[{\"id\":\"1120\",\"type\":\"LogAxis\"}],\"plot_width\":1000,\"renderers\":[{\"id\":\"1115\",\"type\":\"LinearAxis\"},{\"id\":\"1119\",\"type\":\"Grid\"},{\"id\":\"1120\",\"type\":\"LogAxis\"},{\"id\":\"1124\",\"type\":\"Grid\"},{\"id\":\"1133\",\"type\":\"BoxAnnotation\"},{\"id\":\"1143\",\"type\":\"GlyphRenderer\"}],\"title\":{\"id\":\"1155\",\"type\":\"Title\"},\"toolbar\":{\"id\":\"1131\",\"type\":\"Toolbar\"},\"x_range\":{\"id\":\"1107\",\"type\":\"DataRange1d\"},\"x_scale\":{\"id\":\"1111\",\"type\":\"LinearScale\"},\"y_range\":{\"id\":\"1109\",\"type\":\"Range1d\"},\"y_scale\":{\"id\":\"1113\",\"type\":\"LogScale\"}},\"id\":\"1106\",\"subtype\":\"Figure\",\"type\":\"Plot\"},{\"attributes\":{\"active_drag\":\"auto\",\"active_inspect\":\"auto\",\"active_multi\":null,\"active_scroll\":\"auto\",\"active_tap\":\"auto\",\"tools\":[{\"id\":\"1125\",\"type\":\"PanTool\"},{\"id\":\"1126\",\"type\":\"WheelZoomTool\"},{\"id\":\"1127\",\"type\":\"BoxZoomTool\"},{\"id\":\"1128\",\"type\":\"SaveTool\"},{\"id\":\"1129\",\"type\":\"ResetTool\"},{\"id\":\"1130\",\"type\":\"HelpTool\"}]},\"id\":\"1131\",\"type\":\"Toolbar\"},{\"attributes\":{\"plot\":null,\"text\":\"\"},\"id\":\"1155\",\"type\":\"Title\"},{\"attributes\":{\"callback\":null},\"id\":\"1107\",\"type\":\"DataRange1d\"},{\"attributes\":{\"source\":{\"id\":\"1140\",\"type\":\"ColumnDataSource\"}},\"id\":\"1144\",\"type\":\"CDSView\"},{\"attributes\":{\"ticker\":null},\"id\":\"1156\",\"type\":\"LogTickFormatter\"},{\"attributes\":{},\"id\":\"1161\",\"type\":\"Selection\"},{\"attributes\":{},\"id\":\"1158\",\"type\":\"BasicTickFormatter\"},{\"attributes\":{\"line_color\":\"#1f77b4\",\"x\":{\"field\":\"x\"},\"y\":{\"field\":\"y\"}},\"id\":\"1141\",\"type\":\"Line\"},{\"attributes\":{\"callback\":null,\"data\":{\"x\":{\"__ndarray__\":\"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\",\"dtype\":\"float64\",\"shape\":[2048]},\"y\":{\"__ndarray__\":\"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\",\"dtype\":\"float64\",\"shape\":[2048]}},\"selected\":{\"id\":\"1161\",\"type\":\"Selection\"},\"selection_policy\":{\"id\":\"1162\",\"type\":\"UnionRenderers\"}},\"id\":\"1140\",\"type\":\"ColumnDataSource\"},{\"attributes\":{\"line_alpha\":0.1,\"line_color\":\"#1f77b4\",\"x\":{\"field\":\"x\"},\"y\":{\"field\":\"y\"}},\"id\":\"1142\",\"type\":\"Line\"},{\"attributes\":{\"data_source\":{\"id\":\"1140\",\"type\":\"ColumnDataSource\"},\"glyph\":{\"id\":\"1141\",\"type\":\"Line\"},\"hover_glyph\":null,\"muted_glyph\":null,\"nonselection_glyph\":{\"id\":\"1142\",\"type\":\"Line\"},\"selection_glyph\":null,\"view\":{\"id\":\"1144\",\"type\":\"CDSView\"}},\"id\":\"1143\",\"type\":\"GlyphRenderer\"},{\"attributes\":{},\"id\":\"1162\",\"type\":\"UnionRenderers\"},{\"attributes\":{},\"id\":\"1130\",\"type\":\"HelpTool\"},{\"attributes\":{},\"id\":\"1125\",\"type\":\"PanTool\"},{\"attributes\":{\"overlay\":{\"id\":\"1133\",\"type\":\"BoxAnnotation\"}},\"id\":\"1127\",\"type\":\"BoxZoomTool\"},{\"attributes\":{},\"id\":\"1111\",\"type\":\"LinearScale\"},{\"attributes\":{\"callback\":null,\"end\":1500.0,\"start\":0.01},\"id\":\"1109\",\"type\":\"Range1d\"},{\"attributes\":{},\"id\":\"1113\",\"type\":\"LogScale\"},{\"attributes\":{\"formatter\":{\"id\":\"1156\",\"type\":\"LogTickFormatter\"},\"plot\":{\"id\":\"1106\",\"subtype\":\"Figure\",\"type\":\"Plot\"},\"ticker\":{\"id\":\"1121\",\"type\":\"LogTicker\"}},\"id\":\"1120\",\"type\":\"LogAxis\"},{\"attributes\":{\"bottom_units\":\"screen\",\"fill_alpha\":{\"value\":0.5},\"fill_color\":{\"value\":\"lightgrey\"},\"left_units\":\"screen\",\"level\":\"overlay\",\"line_alpha\":{\"value\":1.0},\"line_color\":{\"value\":\"black\"},\"line_dash\":[4,4],\"line_width\":{\"value\":2},\"plot\":null,\"render_mode\":\"css\",\"right_units\":\"screen\",\"top_units\":\"screen\"},\"id\":\"1133\",\"type\":\"BoxAnnotation\"},{\"attributes\":{\"formatter\":{\"id\":\"1158\",\"type\":\"BasicTickFormatter\"},\"plot\":{\"id\":\"1106\",\"subtype\":\"Figure\",\"type\":\"Plot\"},\"ticker\":{\"id\":\"1116\",\"type\":\"BasicTicker\"}},\"id\":\"1115\",\"type\":\"LinearAxis\"},{\"attributes\":{},\"id\":\"1116\",\"type\":\"BasicTicker\"},{\"attributes\":{\"plot\":{\"id\":\"1106\",\"subtype\":\"Figure\",\"type\":\"Plot\"},\"ticker\":{\"id\":\"1116\",\"type\":\"BasicTicker\"}},\"id\":\"1119\",\"type\":\"Grid\"},{\"attributes\":{},\"id\":\"1126\",\"type\":\"WheelZoomTool\"},{\"attributes\":{\"num_minor_ticks\":10},\"id\":\"1121\",\"type\":\"LogTicker\"},{\"attributes\":{\"dimension\":1,\"plot\":{\"id\":\"1106\",\"subtype\":\"Figure\",\"type\":\"Plot\"},\"ticker\":{\"id\":\"1121\",\"type\":\"LogTicker\"}},\"id\":\"1124\",\"type\":\"Grid\"},{\"attributes\":{},\"id\":\"1129\",\"type\":\"ResetTool\"},{\"attributes\":{},\"id\":\"1128\",\"type\":\"SaveTool\"}],\"root_ids\":[\"1106\"]},\"title\":\"Bokeh Application\",\"version\":\"1.0.4\"}};\n",
       "  var render_items = [{\"docid\":\"62523a2b-3a71-4c80-872d-3306d883cbd1\",\"notebook_comms_target\":\"1770\",\"roots\":{\"1106\":\"7a04275a-276a-4547-b04a-bd9de02d762b\"}}];\n",
       "  root.Bokeh.embed.embed_items_notebook(docs_json, render_items);\n",
       "\n",
       "  }\n",
       "  if (root.Bokeh !== undefined) {\n",
       "    embed_document(root);\n",
       "  } else {\n",
       "    var attempts = 0;\n",
       "    var timer = setInterval(function(root) {\n",
       "      if (root.Bokeh !== undefined) {\n",
       "        embed_document(root);\n",
       "        clearInterval(timer);\n",
       "      }\n",
       "      attempts++;\n",
       "      if (attempts > 100) {\n",
       "        console.log(\"Bokeh: ERROR: Unable to run BokehJS code because BokehJS library is missing\");\n",
       "        clearInterval(timer);\n",
       "      }\n",
       "    }, 10, root)\n",
       "  }\n",
       "})(window);"
      ],
      "application/vnd.bokehjs_exec.v0+json": ""
     },
     "metadata": {
      "application/vnd.bokehjs_exec.v0+json": {
       "id": "1106"
      }
     },
     "output_type": "display_data"
    },
    {
     "name": "stdout",
     "output_type": "stream",
     "text": [
      "Capture notes: First test of new args and notes\n"
     ]
    }
   ],
   "source": [
    "widgets.interact(update, sweep=widgets.IntSlider(description='Sweep number', value=1, min=1, max=len(time_domain_data) - 1, step=1, \n",
    "                           style={'description_width': 'initial'}, layout=widgets.Layout(width='80%')));\n",
    "show(p, notebook_handle=True);\n",
    "print('Capture notes: ' + args.NOTES)"
   ]
  },
  {
   "cell_type": "code",
   "execution_count": null,
   "metadata": {},
   "outputs": [],
   "source": []
  }
 ],
 "metadata": {
  "kernelspec": {
   "display_name": "Python 3",
   "language": "python",
   "name": "python3"
  },
  "language_info": {
   "codemirror_mode": {
    "name": "ipython",
    "version": 3
   },
   "file_extension": ".py",
   "mimetype": "text/x-python",
   "name": "python",
   "nbconvert_exporter": "python",
   "pygments_lexer": "ipython3",
   "version": "3.6.8"
  }
 },
 "nbformat": 4,
 "nbformat_minor": 2
}
