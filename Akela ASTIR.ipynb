{
 "cells": [
  {
   "cell_type": "code",
   "execution_count": 28,
   "metadata": {},
   "outputs": [],
   "source": [
    "import numpy as np\n",
    "from bokeh.io import push_notebook, output_notebook\n",
    "from bokeh.plotting import figure, show\n",
    "from ipywidgets import interact, interactive, fixed, interact_manual\n",
    "from IPython.display import Javascript\n",
    "import ipywidgets as widgets\n",
    "import os\n",
    "import pickle\n",
    "import imageio\n"
   ]
  },
  {
   "cell_type": "code",
   "execution_count": 29,
   "metadata": {},
   "outputs": [
    {
     "data": {
      "text/html": [
       "\n",
       "    <div class=\"bk-root\">\n",
       "        <a href=\"https://bokeh.pydata.org\" target=\"_blank\" class=\"bk-logo bk-logo-small bk-logo-notebook\"></a>\n",
       "        <span id=\"1516\">Loading BokehJS ...</span>\n",
       "    </div>"
      ]
     },
     "metadata": {},
     "output_type": "display_data"
    },
    {
     "data": {
      "application/javascript": [
       "\n",
       "(function(root) {\n",
       "  function now() {\n",
       "    return new Date();\n",
       "  }\n",
       "\n",
       "  var force = true;\n",
       "\n",
       "  if (typeof (root._bokeh_onload_callbacks) === \"undefined\" || force === true) {\n",
       "    root._bokeh_onload_callbacks = [];\n",
       "    root._bokeh_is_loading = undefined;\n",
       "  }\n",
       "\n",
       "  var JS_MIME_TYPE = 'application/javascript';\n",
       "  var HTML_MIME_TYPE = 'text/html';\n",
       "  var EXEC_MIME_TYPE = 'application/vnd.bokehjs_exec.v0+json';\n",
       "  var CLASS_NAME = 'output_bokeh rendered_html';\n",
       "\n",
       "  /**\n",
       "   * Render data to the DOM node\n",
       "   */\n",
       "  function render(props, node) {\n",
       "    var script = document.createElement(\"script\");\n",
       "    node.appendChild(script);\n",
       "  }\n",
       "\n",
       "  /**\n",
       "   * Handle when an output is cleared or removed\n",
       "   */\n",
       "  function handleClearOutput(event, handle) {\n",
       "    var cell = handle.cell;\n",
       "\n",
       "    var id = cell.output_area._bokeh_element_id;\n",
       "    var server_id = cell.output_area._bokeh_server_id;\n",
       "    // Clean up Bokeh references\n",
       "    if (id != null && id in Bokeh.index) {\n",
       "      Bokeh.index[id].model.document.clear();\n",
       "      delete Bokeh.index[id];\n",
       "    }\n",
       "\n",
       "    if (server_id !== undefined) {\n",
       "      // Clean up Bokeh references\n",
       "      var cmd = \"from bokeh.io.state import curstate; print(curstate().uuid_to_server['\" + server_id + \"'].get_sessions()[0].document.roots[0]._id)\";\n",
       "      cell.notebook.kernel.execute(cmd, {\n",
       "        iopub: {\n",
       "          output: function(msg) {\n",
       "            var id = msg.content.text.trim();\n",
       "            if (id in Bokeh.index) {\n",
       "              Bokeh.index[id].model.document.clear();\n",
       "              delete Bokeh.index[id];\n",
       "            }\n",
       "          }\n",
       "        }\n",
       "      });\n",
       "      // Destroy server and session\n",
       "      var cmd = \"import bokeh.io.notebook as ion; ion.destroy_server('\" + server_id + \"')\";\n",
       "      cell.notebook.kernel.execute(cmd);\n",
       "    }\n",
       "  }\n",
       "\n",
       "  /**\n",
       "   * Handle when a new output is added\n",
       "   */\n",
       "  function handleAddOutput(event, handle) {\n",
       "    var output_area = handle.output_area;\n",
       "    var output = handle.output;\n",
       "\n",
       "    // limit handleAddOutput to display_data with EXEC_MIME_TYPE content only\n",
       "    if ((output.output_type != \"display_data\") || (!output.data.hasOwnProperty(EXEC_MIME_TYPE))) {\n",
       "      return\n",
       "    }\n",
       "\n",
       "    var toinsert = output_area.element.find(\".\" + CLASS_NAME.split(' ')[0]);\n",
       "\n",
       "    if (output.metadata[EXEC_MIME_TYPE][\"id\"] !== undefined) {\n",
       "      toinsert[toinsert.length - 1].firstChild.textContent = output.data[JS_MIME_TYPE];\n",
       "      // store reference to embed id on output_area\n",
       "      output_area._bokeh_element_id = output.metadata[EXEC_MIME_TYPE][\"id\"];\n",
       "    }\n",
       "    if (output.metadata[EXEC_MIME_TYPE][\"server_id\"] !== undefined) {\n",
       "      var bk_div = document.createElement(\"div\");\n",
       "      bk_div.innerHTML = output.data[HTML_MIME_TYPE];\n",
       "      var script_attrs = bk_div.children[0].attributes;\n",
       "      for (var i = 0; i < script_attrs.length; i++) {\n",
       "        toinsert[toinsert.length - 1].firstChild.setAttribute(script_attrs[i].name, script_attrs[i].value);\n",
       "      }\n",
       "      // store reference to server id on output_area\n",
       "      output_area._bokeh_server_id = output.metadata[EXEC_MIME_TYPE][\"server_id\"];\n",
       "    }\n",
       "  }\n",
       "\n",
       "  function register_renderer(events, OutputArea) {\n",
       "\n",
       "    function append_mime(data, metadata, element) {\n",
       "      // create a DOM node to render to\n",
       "      var toinsert = this.create_output_subarea(\n",
       "        metadata,\n",
       "        CLASS_NAME,\n",
       "        EXEC_MIME_TYPE\n",
       "      );\n",
       "      this.keyboard_manager.register_events(toinsert);\n",
       "      // Render to node\n",
       "      var props = {data: data, metadata: metadata[EXEC_MIME_TYPE]};\n",
       "      render(props, toinsert[toinsert.length - 1]);\n",
       "      element.append(toinsert);\n",
       "      return toinsert\n",
       "    }\n",
       "\n",
       "    /* Handle when an output is cleared or removed */\n",
       "    events.on('clear_output.CodeCell', handleClearOutput);\n",
       "    events.on('delete.Cell', handleClearOutput);\n",
       "\n",
       "    /* Handle when a new output is added */\n",
       "    events.on('output_added.OutputArea', handleAddOutput);\n",
       "\n",
       "    /**\n",
       "     * Register the mime type and append_mime function with output_area\n",
       "     */\n",
       "    OutputArea.prototype.register_mime_type(EXEC_MIME_TYPE, append_mime, {\n",
       "      /* Is output safe? */\n",
       "      safe: true,\n",
       "      /* Index of renderer in `output_area.display_order` */\n",
       "      index: 0\n",
       "    });\n",
       "  }\n",
       "\n",
       "  // register the mime type if in Jupyter Notebook environment and previously unregistered\n",
       "  if (root.Jupyter !== undefined) {\n",
       "    var events = require('base/js/events');\n",
       "    var OutputArea = require('notebook/js/outputarea').OutputArea;\n",
       "\n",
       "    if (OutputArea.prototype.mime_types().indexOf(EXEC_MIME_TYPE) == -1) {\n",
       "      register_renderer(events, OutputArea);\n",
       "    }\n",
       "  }\n",
       "\n",
       "  \n",
       "  if (typeof (root._bokeh_timeout) === \"undefined\" || force === true) {\n",
       "    root._bokeh_timeout = Date.now() + 5000;\n",
       "    root._bokeh_failed_load = false;\n",
       "  }\n",
       "\n",
       "  var NB_LOAD_WARNING = {'data': {'text/html':\n",
       "     \"<div style='background-color: #fdd'>\\n\"+\n",
       "     \"<p>\\n\"+\n",
       "     \"BokehJS does not appear to have successfully loaded. If loading BokehJS from CDN, this \\n\"+\n",
       "     \"may be due to a slow or bad network connection. Possible fixes:\\n\"+\n",
       "     \"</p>\\n\"+\n",
       "     \"<ul>\\n\"+\n",
       "     \"<li>re-rerun `output_notebook()` to attempt to load from CDN again, or</li>\\n\"+\n",
       "     \"<li>use INLINE resources instead, as so:</li>\\n\"+\n",
       "     \"</ul>\\n\"+\n",
       "     \"<code>\\n\"+\n",
       "     \"from bokeh.resources import INLINE\\n\"+\n",
       "     \"output_notebook(resources=INLINE)\\n\"+\n",
       "     \"</code>\\n\"+\n",
       "     \"</div>\"}};\n",
       "\n",
       "  function display_loaded() {\n",
       "    var el = document.getElementById(\"1516\");\n",
       "    if (el != null) {\n",
       "      el.textContent = \"BokehJS is loading...\";\n",
       "    }\n",
       "    if (root.Bokeh !== undefined) {\n",
       "      if (el != null) {\n",
       "        el.textContent = \"BokehJS \" + root.Bokeh.version + \" successfully loaded.\";\n",
       "      }\n",
       "    } else if (Date.now() < root._bokeh_timeout) {\n",
       "      setTimeout(display_loaded, 100)\n",
       "    }\n",
       "  }\n",
       "\n",
       "\n",
       "  function run_callbacks() {\n",
       "    try {\n",
       "      root._bokeh_onload_callbacks.forEach(function(callback) { callback() });\n",
       "    }\n",
       "    finally {\n",
       "      delete root._bokeh_onload_callbacks\n",
       "    }\n",
       "    console.info(\"Bokeh: all callbacks have finished\");\n",
       "  }\n",
       "\n",
       "  function load_libs(js_urls, callback) {\n",
       "    root._bokeh_onload_callbacks.push(callback);\n",
       "    if (root._bokeh_is_loading > 0) {\n",
       "      console.log(\"Bokeh: BokehJS is being loaded, scheduling callback at\", now());\n",
       "      return null;\n",
       "    }\n",
       "    if (js_urls == null || js_urls.length === 0) {\n",
       "      run_callbacks();\n",
       "      return null;\n",
       "    }\n",
       "    console.log(\"Bokeh: BokehJS not loaded, scheduling load and callback at\", now());\n",
       "    root._bokeh_is_loading = js_urls.length;\n",
       "    for (var i = 0; i < js_urls.length; i++) {\n",
       "      var url = js_urls[i];\n",
       "      var s = document.createElement('script');\n",
       "      s.src = url;\n",
       "      s.async = false;\n",
       "      s.onreadystatechange = s.onload = function() {\n",
       "        root._bokeh_is_loading--;\n",
       "        if (root._bokeh_is_loading === 0) {\n",
       "          console.log(\"Bokeh: all BokehJS libraries loaded\");\n",
       "          run_callbacks()\n",
       "        }\n",
       "      };\n",
       "      s.onerror = function() {\n",
       "        console.warn(\"failed to load library \" + url);\n",
       "      };\n",
       "      console.log(\"Bokeh: injecting script tag for BokehJS library: \", url);\n",
       "      document.getElementsByTagName(\"head\")[0].appendChild(s);\n",
       "    }\n",
       "  };var element = document.getElementById(\"1516\");\n",
       "  if (element == null) {\n",
       "    console.log(\"Bokeh: ERROR: autoload.js configured with elementid '1516' but no matching script tag was found. \")\n",
       "    return false;\n",
       "  }\n",
       "\n",
       "  var js_urls = [\"https://cdn.pydata.org/bokeh/release/bokeh-1.0.4.min.js\", \"https://cdn.pydata.org/bokeh/release/bokeh-widgets-1.0.4.min.js\", \"https://cdn.pydata.org/bokeh/release/bokeh-tables-1.0.4.min.js\", \"https://cdn.pydata.org/bokeh/release/bokeh-gl-1.0.4.min.js\"];\n",
       "\n",
       "  var inline_js = [\n",
       "    function(Bokeh) {\n",
       "      Bokeh.set_log_level(\"info\");\n",
       "    },\n",
       "    \n",
       "    function(Bokeh) {\n",
       "      \n",
       "    },\n",
       "    function(Bokeh) {\n",
       "      console.log(\"Bokeh: injecting CSS: https://cdn.pydata.org/bokeh/release/bokeh-1.0.4.min.css\");\n",
       "      Bokeh.embed.inject_css(\"https://cdn.pydata.org/bokeh/release/bokeh-1.0.4.min.css\");\n",
       "      console.log(\"Bokeh: injecting CSS: https://cdn.pydata.org/bokeh/release/bokeh-widgets-1.0.4.min.css\");\n",
       "      Bokeh.embed.inject_css(\"https://cdn.pydata.org/bokeh/release/bokeh-widgets-1.0.4.min.css\");\n",
       "      console.log(\"Bokeh: injecting CSS: https://cdn.pydata.org/bokeh/release/bokeh-tables-1.0.4.min.css\");\n",
       "      Bokeh.embed.inject_css(\"https://cdn.pydata.org/bokeh/release/bokeh-tables-1.0.4.min.css\");\n",
       "    }\n",
       "  ];\n",
       "\n",
       "  function run_inline_js() {\n",
       "    \n",
       "    if ((root.Bokeh !== undefined) || (force === true)) {\n",
       "      for (var i = 0; i < inline_js.length; i++) {\n",
       "        inline_js[i].call(root, root.Bokeh);\n",
       "      }if (force === true) {\n",
       "        display_loaded();\n",
       "      }} else if (Date.now() < root._bokeh_timeout) {\n",
       "      setTimeout(run_inline_js, 100);\n",
       "    } else if (!root._bokeh_failed_load) {\n",
       "      console.log(\"Bokeh: BokehJS failed to load within specified timeout.\");\n",
       "      root._bokeh_failed_load = true;\n",
       "    } else if (force !== true) {\n",
       "      var cell = $(document.getElementById(\"1516\")).parents('.cell').data().cell;\n",
       "      cell.output_area.append_execute_result(NB_LOAD_WARNING)\n",
       "    }\n",
       "\n",
       "  }\n",
       "\n",
       "  if (root._bokeh_is_loading === 0) {\n",
       "    console.log(\"Bokeh: BokehJS loaded, going straight to plotting\");\n",
       "    run_inline_js();\n",
       "  } else {\n",
       "    load_libs(js_urls, function() {\n",
       "      console.log(\"Bokeh: BokehJS plotting callback run at\", now());\n",
       "      run_inline_js();\n",
       "    });\n",
       "  }\n",
       "}(window));"
      ],
      "application/vnd.bokehjs_load.v0+json": "\n(function(root) {\n  function now() {\n    return new Date();\n  }\n\n  var force = true;\n\n  if (typeof (root._bokeh_onload_callbacks) === \"undefined\" || force === true) {\n    root._bokeh_onload_callbacks = [];\n    root._bokeh_is_loading = undefined;\n  }\n\n  \n\n  \n  if (typeof (root._bokeh_timeout) === \"undefined\" || force === true) {\n    root._bokeh_timeout = Date.now() + 5000;\n    root._bokeh_failed_load = false;\n  }\n\n  var NB_LOAD_WARNING = {'data': {'text/html':\n     \"<div style='background-color: #fdd'>\\n\"+\n     \"<p>\\n\"+\n     \"BokehJS does not appear to have successfully loaded. If loading BokehJS from CDN, this \\n\"+\n     \"may be due to a slow or bad network connection. Possible fixes:\\n\"+\n     \"</p>\\n\"+\n     \"<ul>\\n\"+\n     \"<li>re-rerun `output_notebook()` to attempt to load from CDN again, or</li>\\n\"+\n     \"<li>use INLINE resources instead, as so:</li>\\n\"+\n     \"</ul>\\n\"+\n     \"<code>\\n\"+\n     \"from bokeh.resources import INLINE\\n\"+\n     \"output_notebook(resources=INLINE)\\n\"+\n     \"</code>\\n\"+\n     \"</div>\"}};\n\n  function display_loaded() {\n    var el = document.getElementById(\"1516\");\n    if (el != null) {\n      el.textContent = \"BokehJS is loading...\";\n    }\n    if (root.Bokeh !== undefined) {\n      if (el != null) {\n        el.textContent = \"BokehJS \" + root.Bokeh.version + \" successfully loaded.\";\n      }\n    } else if (Date.now() < root._bokeh_timeout) {\n      setTimeout(display_loaded, 100)\n    }\n  }\n\n\n  function run_callbacks() {\n    try {\n      root._bokeh_onload_callbacks.forEach(function(callback) { callback() });\n    }\n    finally {\n      delete root._bokeh_onload_callbacks\n    }\n    console.info(\"Bokeh: all callbacks have finished\");\n  }\n\n  function load_libs(js_urls, callback) {\n    root._bokeh_onload_callbacks.push(callback);\n    if (root._bokeh_is_loading > 0) {\n      console.log(\"Bokeh: BokehJS is being loaded, scheduling callback at\", now());\n      return null;\n    }\n    if (js_urls == null || js_urls.length === 0) {\n      run_callbacks();\n      return null;\n    }\n    console.log(\"Bokeh: BokehJS not loaded, scheduling load and callback at\", now());\n    root._bokeh_is_loading = js_urls.length;\n    for (var i = 0; i < js_urls.length; i++) {\n      var url = js_urls[i];\n      var s = document.createElement('script');\n      s.src = url;\n      s.async = false;\n      s.onreadystatechange = s.onload = function() {\n        root._bokeh_is_loading--;\n        if (root._bokeh_is_loading === 0) {\n          console.log(\"Bokeh: all BokehJS libraries loaded\");\n          run_callbacks()\n        }\n      };\n      s.onerror = function() {\n        console.warn(\"failed to load library \" + url);\n      };\n      console.log(\"Bokeh: injecting script tag for BokehJS library: \", url);\n      document.getElementsByTagName(\"head\")[0].appendChild(s);\n    }\n  };var element = document.getElementById(\"1516\");\n  if (element == null) {\n    console.log(\"Bokeh: ERROR: autoload.js configured with elementid '1516' but no matching script tag was found. \")\n    return false;\n  }\n\n  var js_urls = [\"https://cdn.pydata.org/bokeh/release/bokeh-1.0.4.min.js\", \"https://cdn.pydata.org/bokeh/release/bokeh-widgets-1.0.4.min.js\", \"https://cdn.pydata.org/bokeh/release/bokeh-tables-1.0.4.min.js\", \"https://cdn.pydata.org/bokeh/release/bokeh-gl-1.0.4.min.js\"];\n\n  var inline_js = [\n    function(Bokeh) {\n      Bokeh.set_log_level(\"info\");\n    },\n    \n    function(Bokeh) {\n      \n    },\n    function(Bokeh) {\n      console.log(\"Bokeh: injecting CSS: https://cdn.pydata.org/bokeh/release/bokeh-1.0.4.min.css\");\n      Bokeh.embed.inject_css(\"https://cdn.pydata.org/bokeh/release/bokeh-1.0.4.min.css\");\n      console.log(\"Bokeh: injecting CSS: https://cdn.pydata.org/bokeh/release/bokeh-widgets-1.0.4.min.css\");\n      Bokeh.embed.inject_css(\"https://cdn.pydata.org/bokeh/release/bokeh-widgets-1.0.4.min.css\");\n      console.log(\"Bokeh: injecting CSS: https://cdn.pydata.org/bokeh/release/bokeh-tables-1.0.4.min.css\");\n      Bokeh.embed.inject_css(\"https://cdn.pydata.org/bokeh/release/bokeh-tables-1.0.4.min.css\");\n    }\n  ];\n\n  function run_inline_js() {\n    \n    if ((root.Bokeh !== undefined) || (force === true)) {\n      for (var i = 0; i < inline_js.length; i++) {\n        inline_js[i].call(root, root.Bokeh);\n      }if (force === true) {\n        display_loaded();\n      }} else if (Date.now() < root._bokeh_timeout) {\n      setTimeout(run_inline_js, 100);\n    } else if (!root._bokeh_failed_load) {\n      console.log(\"Bokeh: BokehJS failed to load within specified timeout.\");\n      root._bokeh_failed_load = true;\n    } else if (force !== true) {\n      var cell = $(document.getElementById(\"1516\")).parents('.cell').data().cell;\n      cell.output_area.append_execute_result(NB_LOAD_WARNING)\n    }\n\n  }\n\n  if (root._bokeh_is_loading === 0) {\n    console.log(\"Bokeh: BokehJS loaded, going straight to plotting\");\n    run_inline_js();\n  } else {\n    load_libs(js_urls, function() {\n      console.log(\"Bokeh: BokehJS plotting callback run at\", now());\n      run_inline_js();\n    });\n  }\n}(window));"
     },
     "metadata": {},
     "output_type": "display_data"
    }
   ],
   "source": [
    "output_notebook()"
   ]
  },
  {
   "cell_type": "code",
   "execution_count": 30,
   "metadata": {},
   "outputs": [],
   "source": [
    "CABLE_DELAYS = 0.65 * 2\n",
    "DATA_DIRS = [dI for dI in os.listdir() if (os.path.isdir(dI) and not dI[0] == '.')]\n",
    "DATA_DIRS.sort(reverse=True)\n",
    "FOLDER_NAME = DATA_DIRS[0]"
   ]
  },
  {
   "cell_type": "code",
   "execution_count": 31,
   "metadata": {},
   "outputs": [],
   "source": [
    "def pick_capture(capture):\n",
    "    FOLDER_NAME = capture"
   ]
  },
  {
   "cell_type": "code",
   "execution_count": 32,
   "metadata": {},
   "outputs": [
    {
     "data": {
      "application/vnd.jupyter.widget-view+json": {
       "model_id": "91986e5c9b594b1699fb660e408fa002",
       "version_major": 2,
       "version_minor": 0
      },
      "text/plain": [
       "interactive(children=(Dropdown(description='capture', options=('2019-02-01 12-38-38',), value='2019-02-01 12-3…"
      ]
     },
     "metadata": {},
     "output_type": "display_data"
    }
   ],
   "source": [
    "interact(pick_capture, capture=DATA_DIRS);"
   ]
  },
  {
   "cell_type": "code",
   "execution_count": 33,
   "metadata": {},
   "outputs": [],
   "source": [
    "with open(os.path.join(FOLDER_NAME, 'data.pickle'), 'rb') as f:\n",
    "    frequencies = pickle.load(f)\n",
    "    sweeps = pickle.load(f)\n",
    "    frame_time = pickle.load(f)\n",
    "    args = pickle.load(f)\n",
    "sweeps = [tmp[0][1]['data'] for tmp in sweeps]"
   ]
  },
  {
   "cell_type": "code",
   "execution_count": 34,
   "metadata": {},
   "outputs": [],
   "source": [
    "step = abs(frequencies[0] - frequencies[-1]) / len(frequencies)\n",
    "front_padding_count = max(int(frequencies[0] / step), 0)"
   ]
  },
  {
   "cell_type": "code",
   "execution_count": 35,
   "metadata": {},
   "outputs": [],
   "source": [
    "time_domain_data = []\n",
    "for i in range(len(sweeps)):\n",
    "    data_pt = sweeps[i]\n",
    "\n",
    "    padded_data = []\n",
    "\n",
    "    while len(padded_data) < front_padding_count:\n",
    "        padded_data.append(0)\n",
    "    padded_data.extend(data_pt)\n",
    "\n",
    "    powers_of_two = [2 ** x for x in range(16)]\n",
    "\n",
    "    for size in powers_of_two:\n",
    "        if (size > len(padded_data)):\n",
    "            final_size = size\n",
    "            break\n",
    "    \n",
    "    while len(padded_data) < final_size:\n",
    "        padded_data.append(0)\n",
    "    \n",
    "    padded_data = np.array(padded_data)\n",
    "\n",
    "    time_domain_data.append(np.fft.ifft(padded_data))\n",
    "    \n",
    "time_domain_data = np.abs(time_domain_data[:len(time_domain_data) // 2])\n",
    "axis = np.array(range(time_domain_data.shape[1]))\n",
    "\n",
    "step = step * 1e6 # Hertz\n",
    "axis = axis * (1 / (len(axis) * step * 2)) # Hertz to seconds\n",
    "axis = axis * 1e9 # Nanoseconds\n",
    "axis = axis - CABLE_DELAYS\n",
    "axis = axis * 0.983571 # Nanoseconds to feet\n",
    "axis = axis * .5"
   ]
  },
  {
   "cell_type": "code",
   "execution_count": 36,
   "metadata": {},
   "outputs": [],
   "source": [
    "p = figure(plot_width=1000, plot_height=600, y_axis_type='log', y_range=(10 ** -2, 15e2))\n",
    "l = p.line(axis, time_domain_data[0], line_width=1)"
   ]
  },
  {
   "cell_type": "code",
   "execution_count": 37,
   "metadata": {},
   "outputs": [],
   "source": [
    "def update(sweep):\n",
    "    l.data_source.data['y'] = time_domain_data[sweep - 1]\n",
    "    push_notebook()"
   ]
  },
  {
   "cell_type": "code",
   "execution_count": 38,
   "metadata": {},
   "outputs": [
    {
     "data": {
      "application/vnd.jupyter.widget-view+json": {
       "model_id": "819880851d1c47ab9c6f4aaeacc5fd10",
       "version_major": 2,
       "version_minor": 0
      },
      "text/plain": [
       "interactive(children=(IntSlider(value=25, description='sweep', max=49, min=1), Output()), _dom_classes=('widge…"
      ]
     },
     "metadata": {},
     "output_type": "display_data"
    },
    {
     "data": {
      "text/html": [
       "\n",
       "\n",
       "\n",
       "\n",
       "\n",
       "\n",
       "  <div class=\"bk-root\" id=\"9bb7b7ae-111a-44c7-8ce7-4783492d8d94\" data-root-id=\"1517\"></div>\n"
      ]
     },
     "metadata": {},
     "output_type": "display_data"
    },
    {
     "data": {
      "application/javascript": [
       "(function(root) {\n",
       "  function embed_document(root) {\n",
       "    \n",
       "  var docs_json = {\"8ece0d6f-17a1-43fd-a5f3-688ff82d6849\":{\"roots\":{\"references\":[{\"attributes\":{\"below\":[{\"id\":\"1526\",\"type\":\"LinearAxis\"}],\"left\":[{\"id\":\"1531\",\"type\":\"LogAxis\"}],\"plot_width\":1000,\"renderers\":[{\"id\":\"1526\",\"type\":\"LinearAxis\"},{\"id\":\"1530\",\"type\":\"Grid\"},{\"id\":\"1531\",\"type\":\"LogAxis\"},{\"id\":\"1535\",\"type\":\"Grid\"},{\"id\":\"1544\",\"type\":\"BoxAnnotation\"},{\"id\":\"1554\",\"type\":\"GlyphRenderer\"}],\"title\":{\"id\":\"1584\",\"type\":\"Title\"},\"toolbar\":{\"id\":\"1542\",\"type\":\"Toolbar\"},\"x_range\":{\"id\":\"1518\",\"type\":\"DataRange1d\"},\"x_scale\":{\"id\":\"1522\",\"type\":\"LinearScale\"},\"y_range\":{\"id\":\"1520\",\"type\":\"Range1d\"},\"y_scale\":{\"id\":\"1524\",\"type\":\"LogScale\"}},\"id\":\"1517\",\"subtype\":\"Figure\",\"type\":\"Plot\"},{\"attributes\":{\"plot\":{\"id\":\"1517\",\"subtype\":\"Figure\",\"type\":\"Plot\"},\"ticker\":{\"id\":\"1527\",\"type\":\"BasicTicker\"}},\"id\":\"1530\",\"type\":\"Grid\"},{\"attributes\":{},\"id\":\"1590\",\"type\":\"Selection\"},{\"attributes\":{},\"id\":\"1527\",\"type\":\"BasicTicker\"},{\"attributes\":{},\"id\":\"1522\",\"type\":\"LinearScale\"},{\"attributes\":{},\"id\":\"1524\",\"type\":\"LogScale\"},{\"attributes\":{\"callback\":null},\"id\":\"1518\",\"type\":\"DataRange1d\"},{\"attributes\":{},\"id\":\"1587\",\"type\":\"BasicTickFormatter\"},{\"attributes\":{\"dimension\":1,\"plot\":{\"id\":\"1517\",\"subtype\":\"Figure\",\"type\":\"Plot\"},\"ticker\":{\"id\":\"1532\",\"type\":\"LogTicker\"}},\"id\":\"1535\",\"type\":\"Grid\"},{\"attributes\":{},\"id\":\"1591\",\"type\":\"UnionRenderers\"},{\"attributes\":{\"formatter\":{\"id\":\"1585\",\"type\":\"LogTickFormatter\"},\"plot\":{\"id\":\"1517\",\"subtype\":\"Figure\",\"type\":\"Plot\"},\"ticker\":{\"id\":\"1532\",\"type\":\"LogTicker\"}},\"id\":\"1531\",\"type\":\"LogAxis\"},{\"attributes\":{\"num_minor_ticks\":10},\"id\":\"1532\",\"type\":\"LogTicker\"},{\"attributes\":{\"plot\":null,\"text\":\"\"},\"id\":\"1584\",\"type\":\"Title\"},{\"attributes\":{\"ticker\":null},\"id\":\"1585\",\"type\":\"LogTickFormatter\"},{\"attributes\":{\"line_alpha\":0.1,\"line_color\":\"#1f77b4\",\"x\":{\"field\":\"x\"},\"y\":{\"field\":\"y\"}},\"id\":\"1553\",\"type\":\"Line\"},{\"attributes\":{\"bottom_units\":\"screen\",\"fill_alpha\":{\"value\":0.5},\"fill_color\":{\"value\":\"lightgrey\"},\"left_units\":\"screen\",\"level\":\"overlay\",\"line_alpha\":{\"value\":1.0},\"line_color\":{\"value\":\"black\"},\"line_dash\":[4,4],\"line_width\":{\"value\":2},\"plot\":null,\"render_mode\":\"css\",\"right_units\":\"screen\",\"top_units\":\"screen\"},\"id\":\"1544\",\"type\":\"BoxAnnotation\"},{\"attributes\":{\"formatter\":{\"id\":\"1587\",\"type\":\"BasicTickFormatter\"},\"plot\":{\"id\":\"1517\",\"subtype\":\"Figure\",\"type\":\"Plot\"},\"ticker\":{\"id\":\"1527\",\"type\":\"BasicTicker\"}},\"id\":\"1526\",\"type\":\"LinearAxis\"},{\"attributes\":{},\"id\":\"1537\",\"type\":\"WheelZoomTool\"},{\"attributes\":{\"data_source\":{\"id\":\"1551\",\"type\":\"ColumnDataSource\"},\"glyph\":{\"id\":\"1552\",\"type\":\"Line\"},\"hover_glyph\":null,\"muted_glyph\":null,\"nonselection_glyph\":{\"id\":\"1553\",\"type\":\"Line\"},\"selection_glyph\":null,\"view\":{\"id\":\"1555\",\"type\":\"CDSView\"}},\"id\":\"1554\",\"type\":\"GlyphRenderer\"},{\"attributes\":{},\"id\":\"1536\",\"type\":\"PanTool\"},{\"attributes\":{\"active_drag\":\"auto\",\"active_inspect\":\"auto\",\"active_multi\":null,\"active_scroll\":\"auto\",\"active_tap\":\"auto\",\"tools\":[{\"id\":\"1536\",\"type\":\"PanTool\"},{\"id\":\"1537\",\"type\":\"WheelZoomTool\"},{\"id\":\"1538\",\"type\":\"BoxZoomTool\"},{\"id\":\"1539\",\"type\":\"SaveTool\"},{\"id\":\"1540\",\"type\":\"ResetTool\"},{\"id\":\"1541\",\"type\":\"HelpTool\"}]},\"id\":\"1542\",\"type\":\"Toolbar\"},{\"attributes\":{\"line_color\":\"#1f77b4\",\"x\":{\"field\":\"x\"},\"y\":{\"field\":\"y\"}},\"id\":\"1552\",\"type\":\"Line\"},{\"attributes\":{\"callback\":null,\"end\":1500.0,\"start\":0.01},\"id\":\"1520\",\"type\":\"Range1d\"},{\"attributes\":{\"source\":{\"id\":\"1551\",\"type\":\"ColumnDataSource\"}},\"id\":\"1555\",\"type\":\"CDSView\"},{\"attributes\":{\"callback\":null,\"data\":{\"x\":{\"__ndarray__\":\"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\",\"dtype\":\"float64\",\"shape\":[2048]},\"y\":{\"__ndarray__\":\"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\",\"dtype\":\"float64\",\"shape\":[2048]}},\"selected\":{\"id\":\"1590\",\"type\":\"Selection\"},\"selection_policy\":{\"id\":\"1591\",\"type\":\"UnionRenderers\"}},\"id\":\"1551\",\"type\":\"ColumnDataSource\"},{\"attributes\":{},\"id\":\"1541\",\"type\":\"HelpTool\"},{\"attributes\":{\"overlay\":{\"id\":\"1544\",\"type\":\"BoxAnnotation\"}},\"id\":\"1538\",\"type\":\"BoxZoomTool\"},{\"attributes\":{},\"id\":\"1540\",\"type\":\"ResetTool\"},{\"attributes\":{},\"id\":\"1539\",\"type\":\"SaveTool\"}],\"root_ids\":[\"1517\"]},\"title\":\"Bokeh Application\",\"version\":\"1.0.4\"}};\n",
       "  var render_items = [{\"docid\":\"8ece0d6f-17a1-43fd-a5f3-688ff82d6849\",\"notebook_comms_target\":\"1592\",\"roots\":{\"1517\":\"9bb7b7ae-111a-44c7-8ce7-4783492d8d94\"}}];\n",
       "  root.Bokeh.embed.embed_items_notebook(docs_json, render_items);\n",
       "\n",
       "  }\n",
       "  if (root.Bokeh !== undefined) {\n",
       "    embed_document(root);\n",
       "  } else {\n",
       "    var attempts = 0;\n",
       "    var timer = setInterval(function(root) {\n",
       "      if (root.Bokeh !== undefined) {\n",
       "        embed_document(root);\n",
       "        clearInterval(timer);\n",
       "      }\n",
       "      attempts++;\n",
       "      if (attempts > 100) {\n",
       "        console.log(\"Bokeh: ERROR: Unable to run BokehJS code because BokehJS library is missing\");\n",
       "        clearInterval(timer);\n",
       "      }\n",
       "    }, 10, root)\n",
       "  }\n",
       "})(window);"
      ],
      "application/vnd.bokehjs_exec.v0+json": ""
     },
     "metadata": {
      "application/vnd.bokehjs_exec.v0+json": {
       "id": "1517"
      }
     },
     "output_type": "display_data"
    },
    {
     "name": "stdout",
     "output_type": "stream",
     "text": [
      "Capture notes: First test of new args and notes\n"
     ]
    }
   ],
   "source": [
    "interact(update, sweep=(1,len(time_domain_data) - 1,1));\n",
    "show(p, notebook_handle=True);\n",
    "print('Capture notes: ' + args.NOTES)"
   ]
  },
  {
   "cell_type": "code",
   "execution_count": null,
   "metadata": {},
   "outputs": [],
   "source": []
  }
 ],
 "metadata": {
  "kernelspec": {
   "display_name": "Python 3",
   "language": "python",
   "name": "python3"
  },
  "language_info": {
   "codemirror_mode": {
    "name": "ipython",
    "version": 3
   },
   "file_extension": ".py",
   "mimetype": "text/x-python",
   "name": "python",
   "nbconvert_exporter": "python",
   "pygments_lexer": "ipython3",
   "version": "3.6.8"
  }
 },
 "nbformat": 4,
 "nbformat_minor": 2
}
