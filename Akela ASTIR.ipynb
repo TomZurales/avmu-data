{
 "cells": [
  {
   "cell_type": "code",
   "execution_count": 8,
   "metadata": {},
   "outputs": [],
   "source": [
    "import numpy as np\n",
    "import matplotlib.pyplot as plt\n",
    "import csv\n",
    "import os\n",
    "import pickle"
   ]
  },
  {
   "cell_type": "code",
   "execution_count": 9,
   "metadata": {},
   "outputs": [],
   "source": [
    "CABLE_DELAYS = 0.65 * 2\n",
    "FOLDER_NAME = '2019-01-28 15-45-44'"
   ]
  },
  {
   "cell_type": "code",
   "execution_count": 10,
   "metadata": {},
   "outputs": [],
   "source": [
    "with open(os.path.join(FOLDER_NAME, 'data.pickle'), 'rb') as f:\n",
    "    frequencies = pickle.load(f)\n",
    "    sweeps = pickle.load(f)\n",
    "    frame_time = pickle.load(f)"
   ]
  },
  {
   "cell_type": "code",
   "execution_count": 53,
   "metadata": {},
   "outputs": [],
   "source": [
    "step = abs(frequencies[0] - frequencies[-1]) / len(frequencies)\n",
    "front_padding_count = max(int(frequencies[0] / step), 0)"
   ]
  },
  {
   "cell_type": "code",
   "execution_count": 78,
   "metadata": {},
   "outputs": [],
   "source": [
    "time_domain_data = []\n",
    "freq_data = [tmp[0][1]['data'][x] for tmp in sweeps]\n",
    "for x in range(7):\n",
    "    data_pt = freq_data[:][x]\n",
    "    padded_data = []\n",
    "\n",
    "    while len(padded_data) < front_padding_count:\n",
    "        padded_data.append(0)\n",
    "    padded_data.append(data_pt)\n",
    "\n",
    "    powers_of_two = [2 ** x for x in range(16)]\n",
    "\n",
    "    for size in powers_of_two:\n",
    "        if (size > len(padded_data)):\n",
    "            final_size = size\n",
    "            break\n",
    "\n",
    "    while len(padded_data) < final_size:\n",
    "        padded_data.append(0)\n",
    "    \n",
    "    time_domain_data.append(np.fft.ifft(padded_data))\n",
    "time_domain_data = np.abs(time_domain_data[:len(time_domain_data) // 2])\n",
    "axis = np.array(range(time_domain_data.shape[1]))\n",
    "\n",
    "step = step * 1e6\n",
    "axis = axis * (1 / (len(axis) * step * 2))\n",
    "\n",
    "axis = axis * 1e9\n",
    "axis = axis - CABLE_DELAYS"
   ]
  },
  {
   "cell_type": "code",
   "execution_count": 79,
   "metadata": {},
   "outputs": [
    {
     "data": {
      "image/png": "[encoded data removed]",
      "text/plain": [
       "<Figure size 432x288 with 1 Axes>"
      ]
     },
     "metadata": {},
     "output_type": "display_data"
    }
   ],
   "source": [
    "plt.plot(20 * np.log10(np.abs(time_domain_data[1])), axis)\n",
    "plt.show()"
   ]
  },
  {
   "cell_type": "code",
   "execution_count": null,
   "metadata": {},
   "outputs": [],
   "source": []
  }
 ],
 "metadata": {
  "kernelspec": {
   "display_name": "Python 3",
   "language": "python",
   "name": "python3"
  },
  "language_info": {
   "codemirror_mode": {
    "name": "ipython",
    "version": 3
   },
   "file_extension": ".py",
   "mimetype": "text/x-python",
   "name": "python",
   "nbconvert_exporter": "python",
   "pygments_lexer": "ipython3",
   "version": "3.6.8"
  }
 },
 "nbformat": 4,
 "nbformat_minor": 2
}
