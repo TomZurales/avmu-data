{
 "cells": [
  {
   "cell_type": "code",
   "execution_count": 14,
   "metadata": {},
   "outputs": [],
   "source": [
    "import numpy as np\n",
    "from bokeh.io import push_notebook, output_notebook\n",
    "from bokeh.plotting import figure, show\n",
    "from IPython.display import display\n",
    "import ipywidgets as widgets\n",
    "import os\n",
    "import pickle\n",
    "import imageio"
   ]
  },
  {
   "cell_type": "code",
   "execution_count": 15,
   "metadata": {},
   "outputs": [
    {
     "data": {
      "text/html": [
       "\n",
       "    <div class=\"bk-root\">\n",
       "        <a href=\"https://bokeh.pydata.org\" target=\"_blank\" class=\"bk-logo bk-logo-small bk-logo-notebook\"></a>\n",
       "        <span id=\"1105\">Loading BokehJS ...</span>\n",
       "    </div>"
      ]
     },
     "metadata": {},
     "output_type": "display_data"
    },
    {
     "data": {
      "application/javascript": [
       "\n",
       "(function(root) {\n",
       "  function now() {\n",
       "    return new Date();\n",
       "  }\n",
       "\n",
       "  var force = true;\n",
       "\n",
       "  if (typeof (root._bokeh_onload_callbacks) === \"undefined\" || force === true) {\n",
       "    root._bokeh_onload_callbacks = [];\n",
       "    root._bokeh_is_loading = undefined;\n",
       "  }\n",
       "\n",
       "  var JS_MIME_TYPE = 'application/javascript';\n",
       "  var HTML_MIME_TYPE = 'text/html';\n",
       "  var EXEC_MIME_TYPE = 'application/vnd.bokehjs_exec.v0+json';\n",
       "  var CLASS_NAME = 'output_bokeh rendered_html';\n",
       "\n",
       "  /**\n",
       "   * Render data to the DOM node\n",
       "   */\n",
       "  function render(props, node) {\n",
       "    var script = document.createElement(\"script\");\n",
       "    node.appendChild(script);\n",
       "  }\n",
       "\n",
       "  /**\n",
       "   * Handle when an output is cleared or removed\n",
       "   */\n",
       "  function handleClearOutput(event, handle) {\n",
       "    var cell = handle.cell;\n",
       "\n",
       "    var id = cell.output_area._bokeh_element_id;\n",
       "    var server_id = cell.output_area._bokeh_server_id;\n",
       "    // Clean up Bokeh references\n",
       "    if (id != null && id in Bokeh.index) {\n",
       "      Bokeh.index[id].model.document.clear();\n",
       "      delete Bokeh.index[id];\n",
       "    }\n",
       "\n",
       "    if (server_id !== undefined) {\n",
       "      // Clean up Bokeh references\n",
       "      var cmd = \"from bokeh.io.state import curstate; print(curstate().uuid_to_server['\" + server_id + \"'].get_sessions()[0].document.roots[0]._id)\";\n",
       "      cell.notebook.kernel.execute(cmd, {\n",
       "        iopub: {\n",
       "          output: function(msg) {\n",
       "            var id = msg.content.text.trim();\n",
       "            if (id in Bokeh.index) {\n",
       "              Bokeh.index[id].model.document.clear();\n",
       "              delete Bokeh.index[id];\n",
       "            }\n",
       "          }\n",
       "        }\n",
       "      });\n",
       "      // Destroy server and session\n",
       "      var cmd = \"import bokeh.io.notebook as ion; ion.destroy_server('\" + server_id + \"')\";\n",
       "      cell.notebook.kernel.execute(cmd);\n",
       "    }\n",
       "  }\n",
       "\n",
       "  /**\n",
       "   * Handle when a new output is added\n",
       "   */\n",
       "  function handleAddOutput(event, handle) {\n",
       "    var output_area = handle.output_area;\n",
       "    var output = handle.output;\n",
       "\n",
       "    // limit handleAddOutput to display_data with EXEC_MIME_TYPE content only\n",
       "    if ((output.output_type != \"display_data\") || (!output.data.hasOwnProperty(EXEC_MIME_TYPE))) {\n",
       "      return\n",
       "    }\n",
       "\n",
       "    var toinsert = output_area.element.find(\".\" + CLASS_NAME.split(' ')[0]);\n",
       "\n",
       "    if (output.metadata[EXEC_MIME_TYPE][\"id\"] !== undefined) {\n",
       "      toinsert[toinsert.length - 1].firstChild.textContent = output.data[JS_MIME_TYPE];\n",
       "      // store reference to embed id on output_area\n",
       "      output_area._bokeh_element_id = output.metadata[EXEC_MIME_TYPE][\"id\"];\n",
       "    }\n",
       "    if (output.metadata[EXEC_MIME_TYPE][\"server_id\"] !== undefined) {\n",
       "      var bk_div = document.createElement(\"div\");\n",
       "      bk_div.innerHTML = output.data[HTML_MIME_TYPE];\n",
       "      var script_attrs = bk_div.children[0].attributes;\n",
       "      for (var i = 0; i < script_attrs.length; i++) {\n",
       "        toinsert[toinsert.length - 1].firstChild.setAttribute(script_attrs[i].name, script_attrs[i].value);\n",
       "      }\n",
       "      // store reference to server id on output_area\n",
       "      output_area._bokeh_server_id = output.metadata[EXEC_MIME_TYPE][\"server_id\"];\n",
       "    }\n",
       "  }\n",
       "\n",
       "  function register_renderer(events, OutputArea) {\n",
       "\n",
       "    function append_mime(data, metadata, element) {\n",
       "      // create a DOM node to render to\n",
       "      var toinsert = this.create_output_subarea(\n",
       "        metadata,\n",
       "        CLASS_NAME,\n",
       "        EXEC_MIME_TYPE\n",
       "      );\n",
       "      this.keyboard_manager.register_events(toinsert);\n",
       "      // Render to node\n",
       "      var props = {data: data, metadata: metadata[EXEC_MIME_TYPE]};\n",
       "      render(props, toinsert[toinsert.length - 1]);\n",
       "      element.append(toinsert);\n",
       "      return toinsert\n",
       "    }\n",
       "\n",
       "    /* Handle when an output is cleared or removed */\n",
       "    events.on('clear_output.CodeCell', handleClearOutput);\n",
       "    events.on('delete.Cell', handleClearOutput);\n",
       "\n",
       "    /* Handle when a new output is added */\n",
       "    events.on('output_added.OutputArea', handleAddOutput);\n",
       "\n",
       "    /**\n",
       "     * Register the mime type and append_mime function with output_area\n",
       "     */\n",
       "    OutputArea.prototype.register_mime_type(EXEC_MIME_TYPE, append_mime, {\n",
       "      /* Is output safe? */\n",
       "      safe: true,\n",
       "      /* Index of renderer in `output_area.display_order` */\n",
       "      index: 0\n",
       "    });\n",
       "  }\n",
       "\n",
       "  // register the mime type if in Jupyter Notebook environment and previously unregistered\n",
       "  if (root.Jupyter !== undefined) {\n",
       "    var events = require('base/js/events');\n",
       "    var OutputArea = require('notebook/js/outputarea').OutputArea;\n",
       "\n",
       "    if (OutputArea.prototype.mime_types().indexOf(EXEC_MIME_TYPE) == -1) {\n",
       "      register_renderer(events, OutputArea);\n",
       "    }\n",
       "  }\n",
       "\n",
       "  \n",
       "  if (typeof (root._bokeh_timeout) === \"undefined\" || force === true) {\n",
       "    root._bokeh_timeout = Date.now() + 5000;\n",
       "    root._bokeh_failed_load = false;\n",
       "  }\n",
       "\n",
       "  var NB_LOAD_WARNING = {'data': {'text/html':\n",
       "     \"<div style='background-color: #fdd'>\\n\"+\n",
       "     \"<p>\\n\"+\n",
       "     \"BokehJS does not appear to have successfully loaded. If loading BokehJS from CDN, this \\n\"+\n",
       "     \"may be due to a slow or bad network connection. Possible fixes:\\n\"+\n",
       "     \"</p>\\n\"+\n",
       "     \"<ul>\\n\"+\n",
       "     \"<li>re-rerun `output_notebook()` to attempt to load from CDN again, or</li>\\n\"+\n",
       "     \"<li>use INLINE resources instead, as so:</li>\\n\"+\n",
       "     \"</ul>\\n\"+\n",
       "     \"<code>\\n\"+\n",
       "     \"from bokeh.resources import INLINE\\n\"+\n",
       "     \"output_notebook(resources=INLINE)\\n\"+\n",
       "     \"</code>\\n\"+\n",
       "     \"</div>\"}};\n",
       "\n",
       "  function display_loaded() {\n",
       "    var el = document.getElementById(\"1105\");\n",
       "    if (el != null) {\n",
       "      el.textContent = \"BokehJS is loading...\";\n",
       "    }\n",
       "    if (root.Bokeh !== undefined) {\n",
       "      if (el != null) {\n",
       "        el.textContent = \"BokehJS \" + root.Bokeh.version + \" successfully loaded.\";\n",
       "      }\n",
       "    } else if (Date.now() < root._bokeh_timeout) {\n",
       "      setTimeout(display_loaded, 100)\n",
       "    }\n",
       "  }\n",
       "\n",
       "\n",
       "  function run_callbacks() {\n",
       "    try {\n",
       "      root._bokeh_onload_callbacks.forEach(function(callback) { callback() });\n",
       "    }\n",
       "    finally {\n",
       "      delete root._bokeh_onload_callbacks\n",
       "    }\n",
       "    console.info(\"Bokeh: all callbacks have finished\");\n",
       "  }\n",
       "\n",
       "  function load_libs(js_urls, callback) {\n",
       "    root._bokeh_onload_callbacks.push(callback);\n",
       "    if (root._bokeh_is_loading > 0) {\n",
       "      console.log(\"Bokeh: BokehJS is being loaded, scheduling callback at\", now());\n",
       "      return null;\n",
       "    }\n",
       "    if (js_urls == null || js_urls.length === 0) {\n",
       "      run_callbacks();\n",
       "      return null;\n",
       "    }\n",
       "    console.log(\"Bokeh: BokehJS not loaded, scheduling load and callback at\", now());\n",
       "    root._bokeh_is_loading = js_urls.length;\n",
       "    for (var i = 0; i < js_urls.length; i++) {\n",
       "      var url = js_urls[i];\n",
       "      var s = document.createElement('script');\n",
       "      s.src = url;\n",
       "      s.async = false;\n",
       "      s.onreadystatechange = s.onload = function() {\n",
       "        root._bokeh_is_loading--;\n",
       "        if (root._bokeh_is_loading === 0) {\n",
       "          console.log(\"Bokeh: all BokehJS libraries loaded\");\n",
       "          run_callbacks()\n",
       "        }\n",
       "      };\n",
       "      s.onerror = function() {\n",
       "        console.warn(\"failed to load library \" + url);\n",
       "      };\n",
       "      console.log(\"Bokeh: injecting script tag for BokehJS library: \", url);\n",
       "      document.getElementsByTagName(\"head\")[0].appendChild(s);\n",
       "    }\n",
       "  };var element = document.getElementById(\"1105\");\n",
       "  if (element == null) {\n",
       "    console.log(\"Bokeh: ERROR: autoload.js configured with elementid '1105' but no matching script tag was found. \")\n",
       "    return false;\n",
       "  }\n",
       "\n",
       "  var js_urls = [\"https://cdn.pydata.org/bokeh/release/bokeh-1.0.4.min.js\", \"https://cdn.pydata.org/bokeh/release/bokeh-widgets-1.0.4.min.js\", \"https://cdn.pydata.org/bokeh/release/bokeh-tables-1.0.4.min.js\", \"https://cdn.pydata.org/bokeh/release/bokeh-gl-1.0.4.min.js\"];\n",
       "\n",
       "  var inline_js = [\n",
       "    function(Bokeh) {\n",
       "      Bokeh.set_log_level(\"info\");\n",
       "    },\n",
       "    \n",
       "    function(Bokeh) {\n",
       "      \n",
       "    },\n",
       "    function(Bokeh) {\n",
       "      console.log(\"Bokeh: injecting CSS: https://cdn.pydata.org/bokeh/release/bokeh-1.0.4.min.css\");\n",
       "      Bokeh.embed.inject_css(\"https://cdn.pydata.org/bokeh/release/bokeh-1.0.4.min.css\");\n",
       "      console.log(\"Bokeh: injecting CSS: https://cdn.pydata.org/bokeh/release/bokeh-widgets-1.0.4.min.css\");\n",
       "      Bokeh.embed.inject_css(\"https://cdn.pydata.org/bokeh/release/bokeh-widgets-1.0.4.min.css\");\n",
       "      console.log(\"Bokeh: injecting CSS: https://cdn.pydata.org/bokeh/release/bokeh-tables-1.0.4.min.css\");\n",
       "      Bokeh.embed.inject_css(\"https://cdn.pydata.org/bokeh/release/bokeh-tables-1.0.4.min.css\");\n",
       "    }\n",
       "  ];\n",
       "\n",
       "  function run_inline_js() {\n",
       "    \n",
       "    if ((root.Bokeh !== undefined) || (force === true)) {\n",
       "      for (var i = 0; i < inline_js.length; i++) {\n",
       "        inline_js[i].call(root, root.Bokeh);\n",
       "      }if (force === true) {\n",
       "        display_loaded();\n",
       "      }} else if (Date.now() < root._bokeh_timeout) {\n",
       "      setTimeout(run_inline_js, 100);\n",
       "    } else if (!root._bokeh_failed_load) {\n",
       "      console.log(\"Bokeh: BokehJS failed to load within specified timeout.\");\n",
       "      root._bokeh_failed_load = true;\n",
       "    } else if (force !== true) {\n",
       "      var cell = $(document.getElementById(\"1105\")).parents('.cell').data().cell;\n",
       "      cell.output_area.append_execute_result(NB_LOAD_WARNING)\n",
       "    }\n",
       "\n",
       "  }\n",
       "\n",
       "  if (root._bokeh_is_loading === 0) {\n",
       "    console.log(\"Bokeh: BokehJS loaded, going straight to plotting\");\n",
       "    run_inline_js();\n",
       "  } else {\n",
       "    load_libs(js_urls, function() {\n",
       "      console.log(\"Bokeh: BokehJS plotting callback run at\", now());\n",
       "      run_inline_js();\n",
       "    });\n",
       "  }\n",
       "}(window));"
      ],
      "application/vnd.bokehjs_load.v0+json": "\n(function(root) {\n  function now() {\n    return new Date();\n  }\n\n  var force = true;\n\n  if (typeof (root._bokeh_onload_callbacks) === \"undefined\" || force === true) {\n    root._bokeh_onload_callbacks = [];\n    root._bokeh_is_loading = undefined;\n  }\n\n  \n\n  \n  if (typeof (root._bokeh_timeout) === \"undefined\" || force === true) {\n    root._bokeh_timeout = Date.now() + 5000;\n    root._bokeh_failed_load = false;\n  }\n\n  var NB_LOAD_WARNING = {'data': {'text/html':\n     \"<div style='background-color: #fdd'>\\n\"+\n     \"<p>\\n\"+\n     \"BokehJS does not appear to have successfully loaded. If loading BokehJS from CDN, this \\n\"+\n     \"may be due to a slow or bad network connection. Possible fixes:\\n\"+\n     \"</p>\\n\"+\n     \"<ul>\\n\"+\n     \"<li>re-rerun `output_notebook()` to attempt to load from CDN again, or</li>\\n\"+\n     \"<li>use INLINE resources instead, as so:</li>\\n\"+\n     \"</ul>\\n\"+\n     \"<code>\\n\"+\n     \"from bokeh.resources import INLINE\\n\"+\n     \"output_notebook(resources=INLINE)\\n\"+\n     \"</code>\\n\"+\n     \"</div>\"}};\n\n  function display_loaded() {\n    var el = document.getElementById(\"1105\");\n    if (el != null) {\n      el.textContent = \"BokehJS is loading...\";\n    }\n    if (root.Bokeh !== undefined) {\n      if (el != null) {\n        el.textContent = \"BokehJS \" + root.Bokeh.version + \" successfully loaded.\";\n      }\n    } else if (Date.now() < root._bokeh_timeout) {\n      setTimeout(display_loaded, 100)\n    }\n  }\n\n\n  function run_callbacks() {\n    try {\n      root._bokeh_onload_callbacks.forEach(function(callback) { callback() });\n    }\n    finally {\n      delete root._bokeh_onload_callbacks\n    }\n    console.info(\"Bokeh: all callbacks have finished\");\n  }\n\n  function load_libs(js_urls, callback) {\n    root._bokeh_onload_callbacks.push(callback);\n    if (root._bokeh_is_loading > 0) {\n      console.log(\"Bokeh: BokehJS is being loaded, scheduling callback at\", now());\n      return null;\n    }\n    if (js_urls == null || js_urls.length === 0) {\n      run_callbacks();\n      return null;\n    }\n    console.log(\"Bokeh: BokehJS not loaded, scheduling load and callback at\", now());\n    root._bokeh_is_loading = js_urls.length;\n    for (var i = 0; i < js_urls.length; i++) {\n      var url = js_urls[i];\n      var s = document.createElement('script');\n      s.src = url;\n      s.async = false;\n      s.onreadystatechange = s.onload = function() {\n        root._bokeh_is_loading--;\n        if (root._bokeh_is_loading === 0) {\n          console.log(\"Bokeh: all BokehJS libraries loaded\");\n          run_callbacks()\n        }\n      };\n      s.onerror = function() {\n        console.warn(\"failed to load library \" + url);\n      };\n      console.log(\"Bokeh: injecting script tag for BokehJS library: \", url);\n      document.getElementsByTagName(\"head\")[0].appendChild(s);\n    }\n  };var element = document.getElementById(\"1105\");\n  if (element == null) {\n    console.log(\"Bokeh: ERROR: autoload.js configured with elementid '1105' but no matching script tag was found. \")\n    return false;\n  }\n\n  var js_urls = [\"https://cdn.pydata.org/bokeh/release/bokeh-1.0.4.min.js\", \"https://cdn.pydata.org/bokeh/release/bokeh-widgets-1.0.4.min.js\", \"https://cdn.pydata.org/bokeh/release/bokeh-tables-1.0.4.min.js\", \"https://cdn.pydata.org/bokeh/release/bokeh-gl-1.0.4.min.js\"];\n\n  var inline_js = [\n    function(Bokeh) {\n      Bokeh.set_log_level(\"info\");\n    },\n    \n    function(Bokeh) {\n      \n    },\n    function(Bokeh) {\n      console.log(\"Bokeh: injecting CSS: https://cdn.pydata.org/bokeh/release/bokeh-1.0.4.min.css\");\n      Bokeh.embed.inject_css(\"https://cdn.pydata.org/bokeh/release/bokeh-1.0.4.min.css\");\n      console.log(\"Bokeh: injecting CSS: https://cdn.pydata.org/bokeh/release/bokeh-widgets-1.0.4.min.css\");\n      Bokeh.embed.inject_css(\"https://cdn.pydata.org/bokeh/release/bokeh-widgets-1.0.4.min.css\");\n      console.log(\"Bokeh: injecting CSS: https://cdn.pydata.org/bokeh/release/bokeh-tables-1.0.4.min.css\");\n      Bokeh.embed.inject_css(\"https://cdn.pydata.org/bokeh/release/bokeh-tables-1.0.4.min.css\");\n    }\n  ];\n\n  function run_inline_js() {\n    \n    if ((root.Bokeh !== undefined) || (force === true)) {\n      for (var i = 0; i < inline_js.length; i++) {\n        inline_js[i].call(root, root.Bokeh);\n      }if (force === true) {\n        display_loaded();\n      }} else if (Date.now() < root._bokeh_timeout) {\n      setTimeout(run_inline_js, 100);\n    } else if (!root._bokeh_failed_load) {\n      console.log(\"Bokeh: BokehJS failed to load within specified timeout.\");\n      root._bokeh_failed_load = true;\n    } else if (force !== true) {\n      var cell = $(document.getElementById(\"1105\")).parents('.cell').data().cell;\n      cell.output_area.append_execute_result(NB_LOAD_WARNING)\n    }\n\n  }\n\n  if (root._bokeh_is_loading === 0) {\n    console.log(\"Bokeh: BokehJS loaded, going straight to plotting\");\n    run_inline_js();\n  } else {\n    load_libs(js_urls, function() {\n      console.log(\"Bokeh: BokehJS plotting callback run at\", now());\n      run_inline_js();\n    });\n  }\n}(window));"
     },
     "metadata": {},
     "output_type": "display_data"
    }
   ],
   "source": [
    "output_notebook()"
   ]
  },
  {
   "cell_type": "code",
   "execution_count": 16,
   "metadata": {},
   "outputs": [],
   "source": [
    "CABLE_DELAYS = 0.65 * 2\n",
    "DATA_DIRS = [dI for dI in os.listdir() if (os.path.isdir(dI) and not dI[0] == '.')]\n",
    "DATA_DIRS.sort(reverse=True)\n",
    "FOLDER_NAME = DATA_DIRS[0]"
   ]
  },
  {
   "cell_type": "code",
   "execution_count": 17,
   "metadata": {},
   "outputs": [],
   "source": [
    "def pick_capture(capture):\n",
    "    FOLDER_NAME = capture"
   ]
  },
  {
   "cell_type": "code",
   "execution_count": 18,
   "metadata": {},
   "outputs": [
    {
     "data": {
      "application/vnd.jupyter.widget-view+json": {
       "model_id": "cdf21616b3024f9bbff0fdde1f7296dd",
       "version_major": 2,
       "version_minor": 0
      },
      "text/plain": [
       "interactive(children=(Dropdown(description='capture', options=('2019-02-01 12-38-38',), value='2019-02-01 12-3…"
      ]
     },
     "metadata": {},
     "output_type": "display_data"
    }
   ],
   "source": [
    "widgets.interact(pick_capture, capture=DATA_DIRS);"
   ]
  },
  {
   "cell_type": "code",
   "execution_count": 19,
   "metadata": {},
   "outputs": [],
   "source": [
    "with open(os.path.join(FOLDER_NAME, 'data.pickle'), 'rb') as f:\n",
    "    frequencies = pickle.load(f)\n",
    "    sweeps = pickle.load(f)\n",
    "    frame_time = pickle.load(f)\n",
    "    args = pickle.load(f)\n",
    "sweeps = [tmp[0][1]['data'] for tmp in sweeps]"
   ]
  },
  {
   "cell_type": "code",
   "execution_count": 20,
   "metadata": {},
   "outputs": [],
   "source": [
    "step = abs(frequencies[0] - frequencies[-1]) / len(frequencies)\n",
    "front_padding_count = max(int(frequencies[0] / step), 0)"
   ]
  },
  {
   "cell_type": "code",
   "execution_count": 21,
   "metadata": {},
   "outputs": [],
   "source": [
    "time_domain_data = []\n",
    "for i in range(len(sweeps)):\n",
    "    data_pt = sweeps[i]\n",
    "\n",
    "    padded_data = []\n",
    "\n",
    "    while len(padded_data) < front_padding_count:\n",
    "        padded_data.append(0)\n",
    "    padded_data.extend(data_pt)\n",
    "\n",
    "    powers_of_two = [2 ** x for x in range(16)]\n",
    "\n",
    "    for size in powers_of_two:\n",
    "        if (size > len(padded_data)):\n",
    "            final_size = size\n",
    "            break\n",
    "    \n",
    "    while len(padded_data) < final_size:\n",
    "        padded_data.append(0)\n",
    "    \n",
    "    padded_data = np.array(padded_data)\n",
    "\n",
    "    time_domain_data.append(np.fft.ifft(padded_data))\n",
    "    \n",
    "time_domain_data = np.abs(time_domain_data[:len(time_domain_data) // 2])\n",
    "axis = np.array(range(time_domain_data.shape[1]))\n",
    "\n",
    "step = step * 1e6 # Hertz\n",
    "axis = axis * (1 / (len(axis) * step * 2)) # Hertz to seconds\n",
    "axis = axis * 1e9 # Nanoseconds\n",
    "axis = axis - CABLE_DELAYS\n",
    "axis = axis * 0.983571 # Nanoseconds to feet\n",
    "axis = axis * .5"
   ]
  },
  {
   "cell_type": "code",
   "execution_count": 22,
   "metadata": {},
   "outputs": [],
   "source": [
    "p = figure(plot_width=1000, plot_height=600, y_axis_type='log', y_range=(10 ** -2, 15e2))\n",
    "l = p.line(axis, time_domain_data[0], line_width=1)"
   ]
  },
  {
   "cell_type": "code",
   "execution_count": 23,
   "metadata": {},
   "outputs": [],
   "source": [
    "def update(sweep):\n",
    "    l.data_source.data['y'] = time_domain_data[sweep - 1]\n",
    "    push_notebook()"
   ]
  },
  {
   "cell_type": "code",
   "execution_count": 51,
   "metadata": {},
   "outputs": [
    {
     "data": {
      "application/vnd.jupyter.widget-view+json": {
       "model_id": "d62a0752d0f0498d8ca46b5e453c1742",
       "version_major": 2,
       "version_minor": 0
      },
      "text/plain": [
       "interactive(children=(IntSlider(value=1, description='Sweep number', layout=Layout(width='80%'), max=49, min=1…"
      ]
     },
     "metadata": {},
     "output_type": "display_data"
    },
    {
     "data": {
      "text/html": [
       "\n",
       "\n",
       "\n",
       "\n",
       "\n",
       "\n",
       "  <div class=\"bk-root\" id=\"a900abbe-b815-4fa5-a049-888d787b79f3\" data-root-id=\"1761\"></div>\n"
      ]
     },
     "metadata": {},
     "output_type": "display_data"
    },
    {
     "data": {
      "application/javascript": [
       "(function(root) {\n",
       "  function embed_document(root) {\n",
       "    \n",
       "  var docs_json = {\"c1704345-bd9a-4921-9aae-9a14fbb13b32\":{\"roots\":{\"references\":[{\"attributes\":{\"below\":[{\"id\":\"1770\",\"type\":\"LinearAxis\"}],\"left\":[{\"id\":\"1775\",\"type\":\"LogAxis\"}],\"plot_width\":1000,\"renderers\":[{\"id\":\"1770\",\"type\":\"LinearAxis\"},{\"id\":\"1774\",\"type\":\"Grid\"},{\"id\":\"1775\",\"type\":\"LogAxis\"},{\"id\":\"1779\",\"type\":\"Grid\"},{\"id\":\"1788\",\"type\":\"BoxAnnotation\"},{\"id\":\"1798\",\"type\":\"GlyphRenderer\"}],\"title\":{\"id\":\"1827\",\"type\":\"Title\"},\"toolbar\":{\"id\":\"1786\",\"type\":\"Toolbar\"},\"x_range\":{\"id\":\"1762\",\"type\":\"DataRange1d\"},\"x_scale\":{\"id\":\"1766\",\"type\":\"LinearScale\"},\"y_range\":{\"id\":\"1764\",\"type\":\"Range1d\"},\"y_scale\":{\"id\":\"1768\",\"type\":\"LogScale\"}},\"id\":\"1761\",\"subtype\":\"Figure\",\"type\":\"Plot\"},{\"attributes\":{\"line_color\":\"#1f77b4\",\"x\":{\"field\":\"x\"},\"y\":{\"field\":\"y\"}},\"id\":\"1796\",\"type\":\"Line\"},{\"attributes\":{\"data_source\":{\"id\":\"1795\",\"type\":\"ColumnDataSource\"},\"glyph\":{\"id\":\"1796\",\"type\":\"Line\"},\"hover_glyph\":null,\"muted_glyph\":null,\"nonselection_glyph\":{\"id\":\"1797\",\"type\":\"Line\"},\"selection_glyph\":null,\"view\":{\"id\":\"1799\",\"type\":\"CDSView\"}},\"id\":\"1798\",\"type\":\"GlyphRenderer\"},{\"attributes\":{},\"id\":\"1768\",\"type\":\"LogScale\"},{\"attributes\":{\"callback\":null,\"data\":{\"x\":{\"__ndarray__\":\"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\",\"dtype\":\"float64\",\"shape\":[2048]},\"y\":{\"__ndarray__\":\"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\",\"dtype\":\"float64\",\"shape\":[2048]}},\"selected\":{\"id\":\"1834\",\"type\":\"Selection\"},\"selection_policy\":{\"id\":\"1833\",\"type\":\"UnionRenderers\"}},\"id\":\"1795\",\"type\":\"ColumnDataSource\"},{\"attributes\":{\"num_minor_ticks\":10},\"id\":\"1776\",\"type\":\"LogTicker\"},{\"attributes\":{\"source\":{\"id\":\"1795\",\"type\":\"ColumnDataSource\"}},\"id\":\"1799\",\"type\":\"CDSView\"},{\"attributes\":{\"formatter\":{\"id\":\"1830\",\"type\":\"BasicTickFormatter\"},\"plot\":{\"id\":\"1761\",\"subtype\":\"Figure\",\"type\":\"Plot\"},\"ticker\":{\"id\":\"1771\",\"type\":\"BasicTicker\"}},\"id\":\"1770\",\"type\":\"LinearAxis\"},{\"attributes\":{\"dimension\":1,\"plot\":{\"id\":\"1761\",\"subtype\":\"Figure\",\"type\":\"Plot\"},\"ticker\":{\"id\":\"1776\",\"type\":\"LogTicker\"}},\"id\":\"1779\",\"type\":\"Grid\"},{\"attributes\":{\"active_drag\":\"auto\",\"active_inspect\":\"auto\",\"active_multi\":null,\"active_scroll\":\"auto\",\"active_tap\":\"auto\",\"tools\":[{\"id\":\"1780\",\"type\":\"PanTool\"},{\"id\":\"1781\",\"type\":\"WheelZoomTool\"},{\"id\":\"1782\",\"type\":\"BoxZoomTool\"},{\"id\":\"1783\",\"type\":\"SaveTool\"},{\"id\":\"1784\",\"type\":\"ResetTool\"},{\"id\":\"1785\",\"type\":\"HelpTool\"}]},\"id\":\"1786\",\"type\":\"Toolbar\"},{\"attributes\":{\"bottom_units\":\"screen\",\"fill_alpha\":{\"value\":0.5},\"fill_color\":{\"value\":\"lightgrey\"},\"left_units\":\"screen\",\"level\":\"overlay\",\"line_alpha\":{\"value\":1.0},\"line_color\":{\"value\":\"black\"},\"line_dash\":[4,4],\"line_width\":{\"value\":2},\"plot\":null,\"render_mode\":\"css\",\"right_units\":\"screen\",\"top_units\":\"screen\"},\"id\":\"1788\",\"type\":\"BoxAnnotation\"},{\"attributes\":{},\"id\":\"1785\",\"type\":\"HelpTool\"},{\"attributes\":{},\"id\":\"1784\",\"type\":\"ResetTool\"},{\"attributes\":{\"callback\":null},\"id\":\"1762\",\"type\":\"DataRange1d\"},{\"attributes\":{\"formatter\":{\"id\":\"1832\",\"type\":\"LogTickFormatter\"},\"plot\":{\"id\":\"1761\",\"subtype\":\"Figure\",\"type\":\"Plot\"},\"ticker\":{\"id\":\"1776\",\"type\":\"LogTicker\"}},\"id\":\"1775\",\"type\":\"LogAxis\"},{\"attributes\":{},\"id\":\"1766\",\"type\":\"LinearScale\"},{\"attributes\":{\"overlay\":{\"id\":\"1788\",\"type\":\"BoxAnnotation\"}},\"id\":\"1782\",\"type\":\"BoxZoomTool\"},{\"attributes\":{},\"id\":\"1830\",\"type\":\"BasicTickFormatter\"},{\"attributes\":{},\"id\":\"1771\",\"type\":\"BasicTicker\"},{\"attributes\":{\"plot\":null,\"text\":\"\"},\"id\":\"1827\",\"type\":\"Title\"},{\"attributes\":{\"ticker\":null},\"id\":\"1832\",\"type\":\"LogTickFormatter\"},{\"attributes\":{\"line_alpha\":0.1,\"line_color\":\"#1f77b4\",\"x\":{\"field\":\"x\"},\"y\":{\"field\":\"y\"}},\"id\":\"1797\",\"type\":\"Line\"},{\"attributes\":{},\"id\":\"1833\",\"type\":\"UnionRenderers\"},{\"attributes\":{},\"id\":\"1781\",\"type\":\"WheelZoomTool\"},{\"attributes\":{},\"id\":\"1834\",\"type\":\"Selection\"},{\"attributes\":{},\"id\":\"1780\",\"type\":\"PanTool\"},{\"attributes\":{\"callback\":null,\"end\":1500.0,\"start\":0.01},\"id\":\"1764\",\"type\":\"Range1d\"},{\"attributes\":{},\"id\":\"1783\",\"type\":\"SaveTool\"},{\"attributes\":{\"plot\":{\"id\":\"1761\",\"subtype\":\"Figure\",\"type\":\"Plot\"},\"ticker\":{\"id\":\"1771\",\"type\":\"BasicTicker\"}},\"id\":\"1774\",\"type\":\"Grid\"}],\"root_ids\":[\"1761\"]},\"title\":\"Bokeh Application\",\"version\":\"1.0.4\"}};\n",
       "  var render_items = [{\"docid\":\"c1704345-bd9a-4921-9aae-9a14fbb13b32\",\"notebook_comms_target\":\"2471\",\"roots\":{\"1761\":\"a900abbe-b815-4fa5-a049-888d787b79f3\"}}];\n",
       "  root.Bokeh.embed.embed_items_notebook(docs_json, render_items);\n",
       "\n",
       "  }\n",
       "  if (root.Bokeh !== undefined) {\n",
       "    embed_document(root);\n",
       "  } else {\n",
       "    var attempts = 0;\n",
       "    var timer = setInterval(function(root) {\n",
       "      if (root.Bokeh !== undefined) {\n",
       "        embed_document(root);\n",
       "        clearInterval(timer);\n",
       "      }\n",
       "      attempts++;\n",
       "      if (attempts > 100) {\n",
       "        console.log(\"Bokeh: ERROR: Unable to run BokehJS code because BokehJS library is missing\");\n",
       "        clearInterval(timer);\n",
       "      }\n",
       "    }, 10, root)\n",
       "  }\n",
       "})(window);"
      ],
      "application/vnd.bokehjs_exec.v0+json": ""
     },
     "metadata": {
      "application/vnd.bokehjs_exec.v0+json": {
       "id": "1761"
      }
     },
     "output_type": "display_data"
    },
    {
     "name": "stdout",
     "output_type": "stream",
     "text": [
      "Capture notes: {1000}\n",
      "Namespace(NOTES='{1000}', hop_rate='HOP_15K', ip='192.168.1.219', points_count=1024, start_f=250, stop_f=2100, **{'SWEEP-COUNT': 1000})\n"
     ]
    }
   ],
   "source": [
    "widgets.interact(update, sweep=widgets.IntSlider(description='Sweep number', value=1, min=1, max=len(time_domain_data) - 1, step=1, \n",
    "                           style={'description_width': 'initial'}, layout=widgets.Layout(width='80%')));\n",
    "show(p, notebook_handle=True);\n",
    "print('Capture notes: ' + args.NOTES)\n",
    "print(args)"
   ]
  },
  {
   "cell_type": "code",
   "execution_count": null,
   "metadata": {},
   "outputs": [],
   "source": []
  }
 ],
 "metadata": {
  "kernelspec": {
   "display_name": "Python 3",
   "language": "python",
   "name": "python3"
  },
  "language_info": {
   "codemirror_mode": {
    "name": "ipython",
    "version": 3
   },
   "file_extension": ".py",
   "mimetype": "text/x-python",
   "name": "python",
   "nbconvert_exporter": "python",
   "pygments_lexer": "ipython3",
   "version": "3.6.8"
  }
 },
 "nbformat": 4,
 "nbformat_minor": 2
}
