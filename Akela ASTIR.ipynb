{
 "cells": [
  {
   "cell_type": "code",
   "execution_count": 5,
   "metadata": {},
   "outputs": [],
   "source": [
    "import numpy as np\n",
    "import matplotlib.pyplot as plt\n",
    "import csv\n",
    "import os"
   ]
  },
  {
   "cell_type": "code",
   "execution_count": 14,
   "metadata": {},
   "outputs": [],
   "source": [
    "with open(os.path.join('2019-01-27 16-18-48', 'data.csv')) as f:\n",
    "    reader = csv.reader(f)\n",
    "    \n",
    "    fourier_domain_data = []\n",
    "    \n",
    "    for row in reader:\n",
    "        fourier_domain_data.append(row[0])"
   ]
  },
  {
   "cell_type": "code",
   "execution_count": null,
   "metadata": {},
   "outputs": [],
   "source": [
    "with open(os.path.join('2019-01-27 16-18-48', 'raw.txt')) as f:\n",
    "    while '[[({' not in f.read():\n",
    "        \n",
    "    \n",
    "    fourier_domain_data = []\n",
    "    \n",
    "    for row in reader:\n",
    "        fourier_domain_data.append(row[0])"
   ]
  }
 ],
 "metadata": {
  "kernelspec": {
   "display_name": "Python 3",
   "language": "python",
   "name": "python3"
  },
  "language_info": {
   "codemirror_mode": {
    "name": "ipython",
    "version": 3
   },
   "file_extension": ".py",
   "mimetype": "text/x-python",
   "name": "python",
   "nbconvert_exporter": "python",
   "pygments_lexer": "ipython3",
   "version": "3.6.5"
  }
 },
 "nbformat": 4,
 "nbformat_minor": 2
}
